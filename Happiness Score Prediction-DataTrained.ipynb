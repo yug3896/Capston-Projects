{
 "cells": [
  {
   "cell_type": "markdown",
   "id": "170b8ff3",
   "metadata": {},
   "source": [
    "# Impot dependencies"
   ]
  },
  {
   "cell_type": "code",
   "execution_count": 11,
   "id": "245139e8",
   "metadata": {},
   "outputs": [],
   "source": [
    "import pandas as pd\n",
    "import numpy as np\n",
    "import matplotlib.pyplot as plt\n",
    "import seaborn as sns\n",
    "from sklearn.model_selection import train_test_split\n",
    "from sklearn.linear_model import LinearRegression\n",
    "from sklearn.metrics import r2_score\n",
    "%matplotlib inline\n",
    "import warnings\n",
    "warnings.filterwarnings('ignore')"
   ]
  },
  {
   "cell_type": "markdown",
   "id": "d078b7da",
   "metadata": {},
   "source": [
    "# Exploratory Data Analysis"
   ]
  },
  {
   "cell_type": "code",
   "execution_count": 2,
   "id": "eb168003",
   "metadata": {},
   "outputs": [],
   "source": [
    "#loading the data\n",
    "data=pd.read_csv('happiness_score_dataset.csv')"
   ]
  },
  {
   "cell_type": "code",
   "execution_count": 3,
   "id": "d0cc8599",
   "metadata": {},
   "outputs": [
    {
     "data": {
      "text/html": [
       "<div>\n",
       "<style scoped>\n",
       "    .dataframe tbody tr th:only-of-type {\n",
       "        vertical-align: middle;\n",
       "    }\n",
       "\n",
       "    .dataframe tbody tr th {\n",
       "        vertical-align: top;\n",
       "    }\n",
       "\n",
       "    .dataframe thead th {\n",
       "        text-align: right;\n",
       "    }\n",
       "</style>\n",
       "<table border=\"1\" class=\"dataframe\">\n",
       "  <thead>\n",
       "    <tr style=\"text-align: right;\">\n",
       "      <th></th>\n",
       "      <th>Country</th>\n",
       "      <th>Region</th>\n",
       "      <th>Happiness Rank</th>\n",
       "      <th>Happiness Score</th>\n",
       "      <th>Standard Error</th>\n",
       "      <th>Economy (GDP per Capita)</th>\n",
       "      <th>Family</th>\n",
       "      <th>Health (Life Expectancy)</th>\n",
       "      <th>Freedom</th>\n",
       "      <th>Trust (Government Corruption)</th>\n",
       "      <th>Generosity</th>\n",
       "      <th>Dystopia Residual</th>\n",
       "    </tr>\n",
       "  </thead>\n",
       "  <tbody>\n",
       "    <tr>\n",
       "      <th>0</th>\n",
       "      <td>Switzerland</td>\n",
       "      <td>Western Europe</td>\n",
       "      <td>1</td>\n",
       "      <td>7.587</td>\n",
       "      <td>0.03411</td>\n",
       "      <td>1.39651</td>\n",
       "      <td>1.34951</td>\n",
       "      <td>0.94143</td>\n",
       "      <td>0.66557</td>\n",
       "      <td>0.41978</td>\n",
       "      <td>0.29678</td>\n",
       "      <td>2.51738</td>\n",
       "    </tr>\n",
       "    <tr>\n",
       "      <th>1</th>\n",
       "      <td>Iceland</td>\n",
       "      <td>Western Europe</td>\n",
       "      <td>2</td>\n",
       "      <td>7.561</td>\n",
       "      <td>0.04884</td>\n",
       "      <td>1.30232</td>\n",
       "      <td>1.40223</td>\n",
       "      <td>0.94784</td>\n",
       "      <td>0.62877</td>\n",
       "      <td>0.14145</td>\n",
       "      <td>0.43630</td>\n",
       "      <td>2.70201</td>\n",
       "    </tr>\n",
       "    <tr>\n",
       "      <th>2</th>\n",
       "      <td>Denmark</td>\n",
       "      <td>Western Europe</td>\n",
       "      <td>3</td>\n",
       "      <td>7.527</td>\n",
       "      <td>0.03328</td>\n",
       "      <td>1.32548</td>\n",
       "      <td>1.36058</td>\n",
       "      <td>0.87464</td>\n",
       "      <td>0.64938</td>\n",
       "      <td>0.48357</td>\n",
       "      <td>0.34139</td>\n",
       "      <td>2.49204</td>\n",
       "    </tr>\n",
       "    <tr>\n",
       "      <th>3</th>\n",
       "      <td>Norway</td>\n",
       "      <td>Western Europe</td>\n",
       "      <td>4</td>\n",
       "      <td>7.522</td>\n",
       "      <td>0.03880</td>\n",
       "      <td>1.45900</td>\n",
       "      <td>1.33095</td>\n",
       "      <td>0.88521</td>\n",
       "      <td>0.66973</td>\n",
       "      <td>0.36503</td>\n",
       "      <td>0.34699</td>\n",
       "      <td>2.46531</td>\n",
       "    </tr>\n",
       "    <tr>\n",
       "      <th>4</th>\n",
       "      <td>Canada</td>\n",
       "      <td>North America</td>\n",
       "      <td>5</td>\n",
       "      <td>7.427</td>\n",
       "      <td>0.03553</td>\n",
       "      <td>1.32629</td>\n",
       "      <td>1.32261</td>\n",
       "      <td>0.90563</td>\n",
       "      <td>0.63297</td>\n",
       "      <td>0.32957</td>\n",
       "      <td>0.45811</td>\n",
       "      <td>2.45176</td>\n",
       "    </tr>\n",
       "  </tbody>\n",
       "</table>\n",
       "</div>"
      ],
      "text/plain": [
       "       Country          Region  Happiness Rank  Happiness Score  \\\n",
       "0  Switzerland  Western Europe               1            7.587   \n",
       "1      Iceland  Western Europe               2            7.561   \n",
       "2      Denmark  Western Europe               3            7.527   \n",
       "3       Norway  Western Europe               4            7.522   \n",
       "4       Canada   North America               5            7.427   \n",
       "\n",
       "   Standard Error  Economy (GDP per Capita)   Family  \\\n",
       "0         0.03411                   1.39651  1.34951   \n",
       "1         0.04884                   1.30232  1.40223   \n",
       "2         0.03328                   1.32548  1.36058   \n",
       "3         0.03880                   1.45900  1.33095   \n",
       "4         0.03553                   1.32629  1.32261   \n",
       "\n",
       "   Health (Life Expectancy)  Freedom  Trust (Government Corruption)  \\\n",
       "0                   0.94143  0.66557                        0.41978   \n",
       "1                   0.94784  0.62877                        0.14145   \n",
       "2                   0.87464  0.64938                        0.48357   \n",
       "3                   0.88521  0.66973                        0.36503   \n",
       "4                   0.90563  0.63297                        0.32957   \n",
       "\n",
       "   Generosity  Dystopia Residual  \n",
       "0     0.29678            2.51738  \n",
       "1     0.43630            2.70201  \n",
       "2     0.34139            2.49204  \n",
       "3     0.34699            2.46531  \n",
       "4     0.45811            2.45176  "
      ]
     },
     "execution_count": 3,
     "metadata": {},
     "output_type": "execute_result"
    }
   ],
   "source": [
    "# Top 5 rows\n",
    "data.head()"
   ]
  },
  {
   "cell_type": "code",
   "execution_count": 4,
   "id": "64f1e08d",
   "metadata": {},
   "outputs": [
    {
     "data": {
      "text/plain": [
       "(158, 12)"
      ]
     },
     "execution_count": 4,
     "metadata": {},
     "output_type": "execute_result"
    }
   ],
   "source": [
    "data.shape"
   ]
  },
  {
   "cell_type": "code",
   "execution_count": 5,
   "id": "6cfb30f7",
   "metadata": {},
   "outputs": [
    {
     "name": "stdout",
     "output_type": "stream",
     "text": [
      "<class 'pandas.core.frame.DataFrame'>\n",
      "RangeIndex: 158 entries, 0 to 157\n",
      "Data columns (total 12 columns):\n",
      " #   Column                         Non-Null Count  Dtype  \n",
      "---  ------                         --------------  -----  \n",
      " 0   Country                        158 non-null    object \n",
      " 1   Region                         158 non-null    object \n",
      " 2   Happiness Rank                 158 non-null    int64  \n",
      " 3   Happiness Score                158 non-null    float64\n",
      " 4   Standard Error                 158 non-null    float64\n",
      " 5   Economy (GDP per Capita)       158 non-null    float64\n",
      " 6   Family                         158 non-null    float64\n",
      " 7   Health (Life Expectancy)       158 non-null    float64\n",
      " 8   Freedom                        158 non-null    float64\n",
      " 9   Trust (Government Corruption)  158 non-null    float64\n",
      " 10  Generosity                     158 non-null    float64\n",
      " 11  Dystopia Residual              158 non-null    float64\n",
      "dtypes: float64(9), int64(1), object(2)\n",
      "memory usage: 14.9+ KB\n"
     ]
    }
   ],
   "source": [
    "data.info()"
   ]
  },
  {
   "cell_type": "markdown",
   "id": "a2ac5b89",
   "metadata": {},
   "source": [
    "# Correlation with target columns"
   ]
  },
  {
   "cell_type": "code",
   "execution_count": 6,
   "id": "3db7ed2e",
   "metadata": {},
   "outputs": [
    {
     "data": {
      "text/plain": [
       "Happiness Rank                  -0.992105\n",
       "Standard Error                  -0.177254\n",
       "Generosity                       0.180319\n",
       "Trust (Government Corruption)    0.395199\n",
       "Dystopia Residual                0.530474\n",
       "Freedom                          0.568211\n",
       "Health (Life Expectancy)         0.724200\n",
       "Family                           0.740605\n",
       "Economy (GDP per Capita)         0.780966\n",
       "Happiness Score                  1.000000\n",
       "Name: Happiness Score, dtype: float64"
      ]
     },
     "execution_count": 6,
     "metadata": {},
     "output_type": "execute_result"
    }
   ],
   "source": [
    "data.corr()['Happiness Score'].sort_values()"
   ]
  },
  {
   "cell_type": "code",
   "execution_count": 7,
   "id": "1b60790f",
   "metadata": {},
   "outputs": [
    {
     "data": {
      "text/plain": [
       "<AxesSubplot:>"
      ]
     },
     "execution_count": 7,
     "metadata": {},
     "output_type": "execute_result"
    },
    {
     "data": {
      "image/png": "[encoded data removed]",
      "text/plain": [
       "<Figure size 1584x504 with 2 Axes>"
      ]
     },
     "metadata": {
      "needs_background": "light"
     },
     "output_type": "display_data"
    }
   ],
   "source": [
    "plt.figure(figsize=(22,7))\n",
    "sns.heatmap(data.corr(),annot=True)"
   ]
  },
  {
   "cell_type": "markdown",
   "id": "777dc1b1",
   "metadata": {},
   "source": [
    "# Checking the columns which are positivaly and negatively correlated with target column"
   ]
  },
  {
   "cell_type": "code",
   "execution_count": 8,
   "id": "33d8c4b2",
   "metadata": {},
   "outputs": [
    {
     "data": {
      "text/plain": [
       "Text(0.5, 1.0, 'correlation')"
      ]
     },
     "execution_count": 8,
     "metadata": {},
     "output_type": "execute_result"
    },
    {
     "data": {
      "image/png": "[encoded data removed]",
      "text/plain": [
       "<Figure size 1584x504 with 1 Axes>"
      ]
     },
     "metadata": {
      "needs_background": "light"
     },
     "output_type": "display_data"
    }
   ],
   "source": [
    "plt.figure(figsize=(22,7))\n",
    "data.corr()['Happiness Score'].sort_values().drop(['Happiness Score']).plot(kind='bar',color='c')\n",
    "plt.xlabel('Feature', fontsize=12)\n",
    "plt.ylabel('Happiness Score', fontsize=12)\n",
    "plt.title('correlation', fontsize=12)"
   ]
  },
  {
   "cell_type": "markdown",
   "id": "02fa3566",
   "metadata": {},
   "source": [
    "# Split into Train and Test (Validation) sets and Model training"
   ]
  },
  {
   "cell_type": "code",
   "execution_count": 9,
   "id": "782b77d5",
   "metadata": {},
   "outputs": [],
   "source": [
    "# droping the column which do not help in predicting the happiness score from feature set(x)\n",
    "x=data.drop(columns=['Country','Happiness Rank','Standard Error','Happiness Score','Region'])\n",
    "y=data['Happiness Score']"
   ]
  },
  {
   "cell_type": "code",
   "execution_count": 10,
   "id": "91b9c016",
   "metadata": {},
   "outputs": [
    {
     "name": "stdout",
     "output_type": "stream",
     "text": [
      "X is      Economy (GDP per Capita)   Family  Health (Life Expectancy)  Freedom  \\\n",
      "0                     1.39651  1.34951                   0.94143  0.66557   \n",
      "1                     1.30232  1.40223                   0.94784  0.62877   \n",
      "2                     1.32548  1.36058                   0.87464  0.64938   \n",
      "3                     1.45900  1.33095                   0.88521  0.66973   \n",
      "4                     1.32629  1.32261                   0.90563  0.63297   \n",
      "..                        ...      ...                       ...      ...   \n",
      "153                   0.22208  0.77370                   0.42864  0.59201   \n",
      "154                   0.28665  0.35386                   0.31910  0.48450   \n",
      "155                   0.66320  0.47489                   0.72193  0.15684   \n",
      "156                   0.01530  0.41587                   0.22396  0.11850   \n",
      "157                   0.20868  0.13995                   0.28443  0.36453   \n",
      "\n",
      "     Trust (Government Corruption)  Generosity  Dystopia Residual  \n",
      "0                          0.41978     0.29678            2.51738  \n",
      "1                          0.14145     0.43630            2.70201  \n",
      "2                          0.48357     0.34139            2.49204  \n",
      "3                          0.36503     0.34699            2.46531  \n",
      "4                          0.32957     0.45811            2.45176  \n",
      "..                             ...         ...                ...  \n",
      "153                        0.55191     0.22628            0.67042  \n",
      "154                        0.08010     0.18260            1.63328  \n",
      "155                        0.18906     0.47179            0.32858  \n",
      "156                        0.10062     0.19727            1.83302  \n",
      "157                        0.10731     0.16681            1.56726  \n",
      "\n",
      "[158 rows x 7 columns]\n",
      "Y is \n",
      " 0      7.587\n",
      "1      7.561\n",
      "2      7.527\n",
      "3      7.522\n",
      "4      7.427\n",
      "       ...  \n",
      "153    3.465\n",
      "154    3.340\n",
      "155    3.006\n",
      "156    2.905\n",
      "157    2.839\n",
      "Name: Happiness Score, Length: 158, dtype: float64\n"
     ]
    }
   ],
   "source": [
    "print('X is',x)\n",
    "print('Y is \\n',y)"
   ]
  },
  {
   "cell_type": "code",
   "execution_count": 12,
   "id": "2be902a1",
   "metadata": {},
   "outputs": [
    {
     "name": "stdout",
     "output_type": "stream",
     "text": [
      "At random state 0 the training accuracy is 0.9999999489680212\n",
      "At random state 0 the testing accuracy is 0.9999999035357195\n",
      "\n",
      "\n",
      "At random state 1 the training accuracy is 0.9999999426736762\n",
      "At random state 1 the testing accuracy is 0.9999999355921718\n",
      "\n",
      "\n",
      "At random state 2 the training accuracy is 0.999999937229435\n",
      "At random state 2 the testing accuracy is 0.9999999535717998\n",
      "\n",
      "\n",
      "At random state 3 the training accuracy is 0.9999999412242133\n",
      "At random state 3 the testing accuracy is 0.9999999430412011\n",
      "\n",
      "\n",
      "At random state 4 the training accuracy is 0.9999999343187498\n",
      "At random state 4 the testing accuracy is 0.9999999537558913\n",
      "\n",
      "\n",
      "At random state 5 the training accuracy is 0.9999999462861999\n",
      "At random state 5 the testing accuracy is 0.9999999028525701\n",
      "\n",
      "\n",
      "At random state 6 the training accuracy is 0.9999999438395032\n",
      "At random state 6 the testing accuracy is 0.9999999311762418\n",
      "\n",
      "\n",
      "At random state 7 the training accuracy is 0.9999999415268171\n",
      "At random state 7 the testing accuracy is 0.9999999381573352\n",
      "\n",
      "\n",
      "At random state 8 the training accuracy is 0.9999999394103192\n",
      "At random state 8 the testing accuracy is 0.999999948399922\n",
      "\n",
      "\n",
      "At random state 9 the training accuracy is 0.99999994556699\n",
      "At random state 9 the testing accuracy is 0.9999999170331368\n",
      "\n",
      "\n",
      "At random state 10 the training accuracy is 0.999999944065422\n",
      "At random state 10 the testing accuracy is 0.9999999273141104\n",
      "\n",
      "\n",
      "At random state 11 the training accuracy is 0.9999999389155676\n",
      "At random state 11 the testing accuracy is 0.9999999522445017\n",
      "\n",
      "\n",
      "At random state 12 the training accuracy is 0.9999999383706494\n",
      "At random state 12 the testing accuracy is 0.9999999507350612\n",
      "\n",
      "\n",
      "At random state 13 the training accuracy is 0.9999999422655598\n",
      "At random state 13 the testing accuracy is 0.9999999325031661\n",
      "\n",
      "\n",
      "At random state 14 the training accuracy is 0.9999999394039287\n",
      "At random state 14 the testing accuracy is 0.999999947591995\n",
      "\n",
      "\n",
      "At random state 15 the training accuracy is 0.9999999452376672\n",
      "At random state 15 the testing accuracy is 0.9999999241225617\n",
      "\n",
      "\n",
      "At random state 16 the training accuracy is 0.9999999444399544\n",
      "At random state 16 the testing accuracy is 0.9999999227883328\n",
      "\n",
      "\n",
      "At random state 17 the training accuracy is 0.9999999446108588\n",
      "At random state 17 the testing accuracy is 0.9999999251509085\n",
      "\n",
      "\n",
      "At random state 18 the training accuracy is 0.9999999444301613\n",
      "At random state 18 the testing accuracy is 0.9999999277817511\n",
      "\n",
      "\n",
      "At random state 19 the training accuracy is 0.9999999476508828\n",
      "At random state 19 the testing accuracy is 0.9999999171613166\n",
      "\n",
      "\n",
      "At random state 20 the training accuracy is 0.9999999444257699\n",
      "At random state 20 the testing accuracy is 0.999999923929999\n",
      "\n",
      "\n",
      "At random state 21 the training accuracy is 0.9999999416896023\n",
      "At random state 21 the testing accuracy is 0.9999999389088244\n",
      "\n",
      "\n",
      "At random state 22 the training accuracy is 0.9999999405295934\n",
      "At random state 22 the testing accuracy is 0.999999945980314\n",
      "\n",
      "\n",
      "At random state 23 the training accuracy is 0.9999999442575986\n",
      "At random state 23 the testing accuracy is 0.9999999232439003\n",
      "\n",
      "\n",
      "At random state 24 the training accuracy is 0.9999999429392027\n",
      "At random state 24 the testing accuracy is 0.9999999368982047\n",
      "\n",
      "\n",
      "At random state 25 the training accuracy is 0.9999999518604282\n",
      "At random state 25 the testing accuracy is 0.9999998528603192\n",
      "\n",
      "\n",
      "At random state 26 the training accuracy is 0.9999999408926734\n",
      "At random state 26 the testing accuracy is 0.9999999414229915\n",
      "\n",
      "\n",
      "At random state 27 the training accuracy is 0.9999999439339919\n",
      "At random state 27 the testing accuracy is 0.99999993071722\n",
      "\n",
      "\n",
      "At random state 28 the training accuracy is 0.9999999470609081\n",
      "At random state 28 the testing accuracy is 0.9999999028957941\n",
      "\n",
      "\n",
      "At random state 29 the training accuracy is 0.9999999456787678\n",
      "At random state 29 the testing accuracy is 0.9999999188813276\n",
      "\n",
      "\n",
      "At random state 30 the training accuracy is 0.9999999425604126\n",
      "At random state 30 the testing accuracy is 0.9999999355039526\n",
      "\n",
      "\n",
      "At random state 31 the training accuracy is 0.9999999434755724\n",
      "At random state 31 the testing accuracy is 0.9999999311877545\n",
      "\n",
      "\n",
      "At random state 32 the training accuracy is 0.9999999364896782\n",
      "At random state 32 the testing accuracy is 0.9999999540297884\n",
      "\n",
      "\n",
      "At random state 33 the training accuracy is 0.999999929758926\n",
      "At random state 33 the testing accuracy is 0.9999999699696752\n",
      "\n",
      "\n",
      "At random state 34 the training accuracy is 0.9999999429138458\n",
      "At random state 34 the testing accuracy is 0.999999922246867\n",
      "\n",
      "\n",
      "At random state 35 the training accuracy is 0.9999999450208469\n",
      "At random state 35 the testing accuracy is 0.9999999251322009\n",
      "\n",
      "\n",
      "At random state 36 the training accuracy is 0.9999999474581045\n",
      "At random state 36 the testing accuracy is 0.9999999078641812\n",
      "\n",
      "\n",
      "At random state 37 the training accuracy is 0.9999999370531585\n",
      "At random state 37 the testing accuracy is 0.9999999541931653\n",
      "\n",
      "\n",
      "At random state 38 the training accuracy is 0.9999999502330655\n",
      "At random state 38 the testing accuracy is 0.9999998697958659\n",
      "\n",
      "\n",
      "At random state 39 the training accuracy is 0.9999999369508523\n",
      "At random state 39 the testing accuracy is 0.9999999561697002\n",
      "\n",
      "\n",
      "At random state 40 the training accuracy is 0.9999999488162911\n",
      "At random state 40 the testing accuracy is 0.9999999054416957\n",
      "\n",
      "\n",
      "At random state 41 the training accuracy is 0.9999999398278622\n",
      "At random state 41 the testing accuracy is 0.9999999433628486\n",
      "\n",
      "\n",
      "At random state 42 the training accuracy is 0.9999999390448391\n",
      "At random state 42 the testing accuracy is 0.9999999484481188\n",
      "\n",
      "\n",
      "At random state 43 the training accuracy is 0.9999999407830997\n",
      "At random state 43 the testing accuracy is 0.9999999410560375\n",
      "\n",
      "\n",
      "At random state 44 the training accuracy is 0.999999939173248\n",
      "At random state 44 the testing accuracy is 0.9999999505305747\n",
      "\n",
      "\n",
      "At random state 45 the training accuracy is 0.9999999399127772\n",
      "At random state 45 the testing accuracy is 0.9999999434538785\n",
      "\n",
      "\n",
      "At random state 46 the training accuracy is 0.9999999406064757\n",
      "At random state 46 the testing accuracy is 0.9999999451710723\n",
      "\n",
      "\n",
      "At random state 47 the training accuracy is 0.9999999439377202\n",
      "At random state 47 the testing accuracy is 0.9999999154061283\n",
      "\n",
      "\n",
      "At random state 48 the training accuracy is 0.9999999460068143\n",
      "At random state 48 the testing accuracy is 0.9999999205297967\n",
      "\n",
      "\n",
      "At random state 49 the training accuracy is 0.9999999434964438\n",
      "At random state 49 the testing accuracy is 0.9999999303083521\n",
      "\n",
      "\n",
      "At random state 50 the training accuracy is 0.9999999429646188\n",
      "At random state 50 the testing accuracy is 0.9999999324328823\n",
      "\n",
      "\n",
      "At random state 51 the training accuracy is 0.9999999445790367\n",
      "At random state 51 the testing accuracy is 0.9999999262534341\n",
      "\n",
      "\n",
      "At random state 52 the training accuracy is 0.9999999394767115\n",
      "At random state 52 the testing accuracy is 0.999999947885814\n",
      "\n",
      "\n",
      "At random state 53 the training accuracy is 0.9999999441999846\n",
      "At random state 53 the testing accuracy is 0.9999999206375931\n",
      "\n",
      "\n",
      "At random state 54 the training accuracy is 0.999999930970805\n",
      "At random state 54 the testing accuracy is 0.9999999651025517\n",
      "\n",
      "\n",
      "At random state 55 the training accuracy is 0.9999999424891142\n",
      "At random state 55 the testing accuracy is 0.9999999332224478\n",
      "\n",
      "\n",
      "At random state 56 the training accuracy is 0.999999939592102\n",
      "At random state 56 the testing accuracy is 0.9999999450868454\n",
      "\n",
      "\n",
      "At random state 57 the training accuracy is 0.9999999424327132\n",
      "At random state 57 the testing accuracy is 0.9999999332481043\n",
      "\n",
      "\n",
      "At random state 58 the training accuracy is 0.9999999489252538\n",
      "At random state 58 the testing accuracy is 0.9999998855097205\n",
      "\n",
      "\n",
      "At random state 59 the training accuracy is 0.999999942932681\n",
      "At random state 59 the testing accuracy is 0.9999999322498258\n",
      "\n",
      "\n",
      "At random state 60 the training accuracy is 0.9999999375188005\n",
      "At random state 60 the testing accuracy is 0.9999999549107608\n",
      "\n",
      "\n",
      "At random state 61 the training accuracy is 0.9999999426290666\n",
      "At random state 61 the testing accuracy is 0.999999931750369\n",
      "\n",
      "\n",
      "At random state 62 the training accuracy is 0.999999952061184\n",
      "At random state 62 the testing accuracy is 0.999999853918559\n",
      "\n",
      "\n",
      "At random state 63 the training accuracy is 0.9999999435947393\n",
      "At random state 63 the testing accuracy is 0.9999999264085446\n",
      "\n",
      "\n",
      "At random state 64 the training accuracy is 0.9999999355229057\n",
      "At random state 64 the testing accuracy is 0.9999999584686784\n",
      "\n",
      "\n",
      "At random state 65 the training accuracy is 0.999999944698173\n",
      "At random state 65 the testing accuracy is 0.9999999272021938\n",
      "\n",
      "\n",
      "At random state 66 the training accuracy is 0.9999999457762625\n",
      "At random state 66 the testing accuracy is 0.9999999148982102\n",
      "\n",
      "\n",
      "At random state 67 the training accuracy is 0.9999999402768148\n",
      "At random state 67 the testing accuracy is 0.9999999452237671\n",
      "\n",
      "\n",
      "At random state 68 the training accuracy is 0.999999946717809\n",
      "At random state 68 the testing accuracy is 0.9999999086794834\n",
      "\n",
      "\n",
      "At random state 69 the training accuracy is 0.9999999393152988\n",
      "At random state 69 the testing accuracy is 0.9999999465708675\n",
      "\n",
      "\n",
      "At random state 70 the training accuracy is 0.9999999460468165\n",
      "At random state 70 the testing accuracy is 0.9999999221772533\n",
      "\n",
      "\n",
      "At random state 71 the training accuracy is 0.9999999437237341\n",
      "At random state 71 the testing accuracy is 0.9999999286430052\n",
      "\n",
      "\n",
      "At random state 72 the training accuracy is 0.9999999300338906\n",
      "At random state 72 the testing accuracy is 0.9999999661502993\n",
      "\n",
      "\n",
      "At random state 73 the training accuracy is 0.9999999443978826\n",
      "At random state 73 the testing accuracy is 0.9999999290302989\n",
      "\n",
      "\n",
      "At random state 74 the training accuracy is 0.9999999368696396\n",
      "At random state 74 the testing accuracy is 0.9999999544567121\n",
      "\n",
      "\n",
      "At random state 75 the training accuracy is 0.999999941634246\n",
      "At random state 75 the testing accuracy is 0.999999942733878\n",
      "\n",
      "\n",
      "At random state 76 the training accuracy is 0.99999994856293\n",
      "At random state 76 the testing accuracy is 0.999999895418982\n",
      "\n",
      "\n",
      "At random state 77 the training accuracy is 0.9999999447593328\n",
      "At random state 77 the testing accuracy is 0.999999923863832\n",
      "\n",
      "\n",
      "At random state 78 the training accuracy is 0.9999999454060312\n",
      "At random state 78 the testing accuracy is 0.9999999132219174\n",
      "\n",
      "\n",
      "At random state 79 the training accuracy is 0.9999999406422307\n",
      "At random state 79 the testing accuracy is 0.9999999403113128\n",
      "\n",
      "\n",
      "At random state 80 the training accuracy is 0.9999999448750997\n",
      "At random state 80 the testing accuracy is 0.9999999124966904\n",
      "\n",
      "\n",
      "At random state 81 the training accuracy is 0.9999999417263556\n",
      "At random state 81 the testing accuracy is 0.9999999375782742\n",
      "\n",
      "\n",
      "At random state 82 the training accuracy is 0.9999999440854442\n",
      "At random state 82 the testing accuracy is 0.9999999287376974\n",
      "\n",
      "\n",
      "At random state 83 the training accuracy is 0.9999999415035127\n",
      "At random state 83 the testing accuracy is 0.9999999360123056\n",
      "\n",
      "\n",
      "At random state 84 the training accuracy is 0.9999999389363403\n",
      "At random state 84 the testing accuracy is 0.9999999505573861\n",
      "\n",
      "\n",
      "At random state 85 the training accuracy is 0.9999999462406527\n",
      "At random state 85 the testing accuracy is 0.999999908809444\n",
      "\n",
      "\n",
      "At random state 86 the training accuracy is 0.9999999418509342\n",
      "At random state 86 the testing accuracy is 0.9999999406814456\n",
      "\n",
      "\n",
      "At random state 87 the training accuracy is 0.9999999383534414\n",
      "At random state 87 the testing accuracy is 0.9999999509643316\n",
      "\n",
      "\n",
      "At random state 88 the training accuracy is 0.9999999472140245\n",
      "At random state 88 the testing accuracy is 0.9999999113309759\n",
      "\n",
      "\n",
      "At random state 89 the training accuracy is 0.9999999462069276\n",
      "At random state 89 the testing accuracy is 0.9999999108791592\n",
      "\n",
      "\n",
      "At random state 90 the training accuracy is 0.999999938369147\n",
      "At random state 90 the testing accuracy is 0.9999999510707164\n",
      "\n",
      "\n",
      "At random state 91 the training accuracy is 0.9999999448250383\n",
      "At random state 91 the testing accuracy is 0.9999999225952785\n",
      "\n",
      "\n",
      "At random state 92 the training accuracy is 0.999999945642084\n",
      "At random state 92 the testing accuracy is 0.999999922355187\n",
      "\n",
      "\n",
      "At random state 93 the training accuracy is 0.9999999422233918\n",
      "At random state 93 the testing accuracy is 0.9999999368524918\n",
      "\n",
      "\n",
      "At random state 94 the training accuracy is 0.9999999439005097\n",
      "At random state 94 the testing accuracy is 0.9999999205085958\n",
      "\n",
      "\n",
      "At random state 95 the training accuracy is 0.9999999467958566\n",
      "At random state 95 the testing accuracy is 0.99999991708488\n",
      "\n",
      "\n",
      "At random state 96 the training accuracy is 0.999999943240295\n",
      "At random state 96 the testing accuracy is 0.999999932544557\n",
      "\n",
      "\n",
      "At random state 97 the training accuracy is 0.9999999416115775\n",
      "At random state 97 the testing accuracy is 0.9999999410414463\n",
      "\n",
      "\n",
      "At random state 98 the training accuracy is 0.9999999501990334\n",
      "At random state 98 the testing accuracy is 0.9999998860490943\n",
      "\n",
      "\n",
      "At random state 99 the training accuracy is 0.9999999410327172\n",
      "At random state 99 the testing accuracy is 0.9999999339867789\n",
      "\n",
      "\n"
     ]
    }
   ],
   "source": [
    "lr_model=LinearRegression()\n",
    "for i in range(0,100):\n",
    "    x_train,x_test,y_train,y_test=train_test_split(x,y, test_size=0.2, random_state=i)\n",
    "    lr_model.fit(x_train,y_train)\n",
    "    pred_train=lr_model.predict(x_train)\n",
    "    pred_test=lr_model.predict(x_test)\n",
    "    print(\"At random state\", i ,\"the training accuracy is\", r2_score(y_train,pred_train))\n",
    "    print(\"At random state\", i ,\"the testing accuracy is\", r2_score(y_test,pred_test))\n",
    "    print(\"\\n\")"
   ]
  },
  {
   "cell_type": "markdown",
   "id": "65e1cd72",
   "metadata": {},
   "source": [
    "Since accuracy at all random state is 99.99 percent we can use any of the random state"
   ]
  },
  {
   "cell_type": "code",
   "execution_count": 13,
   "id": "e7778be1",
   "metadata": {},
   "outputs": [],
   "source": [
    "x_train,x_test,y_train,y_test=train_test_split(x,y, test_size=0.2, random_state=2)"
   ]
  },
  {
   "cell_type": "code",
   "execution_count": 14,
   "id": "d93c45f7",
   "metadata": {},
   "outputs": [
    {
     "name": "stdout",
     "output_type": "stream",
     "text": [
      "(158, 7) (126, 7) (32, 7)\n"
     ]
    }
   ],
   "source": [
    "print(x.shape,x_train.shape,x_test.shape)"
   ]
  },
  {
   "cell_type": "code",
   "execution_count": 15,
   "id": "8ad67917",
   "metadata": {},
   "outputs": [
    {
     "data": {
      "text/plain": [
       "LinearRegression()"
      ]
     },
     "execution_count": 15,
     "metadata": {},
     "output_type": "execute_result"
    }
   ],
   "source": [
    "lr_model.fit(x_train,y_train)"
   ]
  },
  {
   "cell_type": "code",
   "execution_count": 16,
   "id": "23ba1c5d",
   "metadata": {},
   "outputs": [],
   "source": [
    "pred_train=lr_model.predict(x_train)"
   ]
  },
  {
   "cell_type": "code",
   "execution_count": 17,
   "id": "7f997927",
   "metadata": {},
   "outputs": [
    {
     "name": "stdout",
     "output_type": "stream",
     "text": [
      "0.999999937229435\n"
     ]
    }
   ],
   "source": [
    "print(r2_score(y_train,pred_train))"
   ]
  },
  {
   "cell_type": "code",
   "execution_count": 23,
   "id": "6e14060d",
   "metadata": {},
   "outputs": [
    {
     "data": {
      "image/png": "[encoded data removed]",
      "text/plain": [
       "<Figure size 1584x504 with 1 Axes>"
      ]
     },
     "metadata": {
      "needs_background": "light"
     },
     "output_type": "display_data"
    }
   ],
   "source": [
    "#Scatter plot for train set\n",
    "plt.figure(figsize=(22,7))\n",
    "plt.scatter(x=y_train,y=pred_train, color='r')\n",
    "plt.plot(y_test,y_test, color='g')\n",
    "plt.xlabel('Feature', fontsize=12)\n",
    "plt.ylabel('Happiness Score', fontsize=12)\n",
    "plt.title('Linear Regression', fontsize=12)\n",
    "plt.show()"
   ]
  },
  {
   "cell_type": "code",
   "execution_count": 18,
   "id": "8e92b820",
   "metadata": {},
   "outputs": [],
   "source": [
    "pred_test=lr_model.predict(x_test)"
   ]
  },
  {
   "cell_type": "code",
   "execution_count": 19,
   "id": "36a6d788",
   "metadata": {},
   "outputs": [
    {
     "name": "stdout",
     "output_type": "stream",
     "text": [
      "0.9999999535717998\n"
     ]
    }
   ],
   "source": [
    "print(r2_score(y_test,pred_test))"
   ]
  },
  {
   "cell_type": "code",
   "execution_count": 24,
   "id": "033413b0",
   "metadata": {},
   "outputs": [
    {
     "data": {
      "image/png": "[encoded data removed]",
      "text/plain": [
       "<Figure size 1584x504 with 1 Axes>"
      ]
     },
     "metadata": {
      "needs_background": "light"
     },
     "output_type": "display_data"
    }
   ],
   "source": [
    "#Regression plot for test set\n",
    "plt.figure(figsize=(22,7))\n",
    "plt.scatter(x=y_test,y=pred_test, color='r')\n",
    "plt.plot(y_test,y_test, color='g')\n",
    "plt.xlabel('Feature', fontsize=12)\n",
    "plt.ylabel('Happiness Score', fontsize=12)\n",
    "plt.title('Linear Regression', fontsize=12)\n",
    "plt.show()"
   ]
  },
  {
   "cell_type": "markdown",
   "id": "6513d2b5",
   "metadata": {},
   "source": [
    "# Cross validation of the model"
   ]
  },
  {
   "cell_type": "code",
   "execution_count": 20,
   "id": "5757467c",
   "metadata": {},
   "outputs": [
    {
     "name": "stdout",
     "output_type": "stream",
     "text": [
      "AT cross fold 2 the cv score is 0.9999997647043926\n",
      "\n",
      "\n",
      "AT cross fold 3 the cv score is 0.9999995016578286\n",
      "\n",
      "\n",
      "AT cross fold 4 the cv score is 0.9999987967817485\n",
      "\n",
      "\n",
      "AT cross fold 5 the cv score is 0.9999981947416543\n",
      "\n",
      "\n",
      "AT cross fold 6 the cv score is 0.9999972688320694\n",
      "\n",
      "\n",
      "AT cross fold 7 the cv score is 0.9999957517670529\n",
      "\n",
      "\n",
      "AT cross fold 8 the cv score is 0.9999956559939313\n",
      "\n",
      "\n",
      "AT cross fold 9 the cv score is 0.9999935038005747\n",
      "\n",
      "\n"
     ]
    }
   ],
   "source": [
    "from sklearn.model_selection import cross_val_score\n",
    "for j in range(2,10):\n",
    "    cv_score=cross_val_score(lr_model,x,y,cv=j)\n",
    "    cv_mean=cv_score.mean()\n",
    "    print(f\"AT cross fold {j} the cv score is {cv_mean}\")\n",
    "    print('\\n')\n"
   ]
  },
  {
   "cell_type": "markdown",
   "id": "6172da47",
   "metadata": {},
   "source": [
    "Our model is 99.99% accurate"
   ]
  },
  {
   "cell_type": "markdown",
   "id": "5363964b",
   "metadata": {},
   "source": [
    "# Model Saving"
   ]
  },
  {
   "cell_type": "code",
   "execution_count": 25,
   "id": "503dd373",
   "metadata": {},
   "outputs": [],
   "source": [
    "import pickle\n",
    "filename='Happiness_score.pkl'\n",
    "pickle.dump(lr_model, open(filename,'wb'))"
   ]
  },
  {
   "cell_type": "markdown",
   "id": "c160af3c",
   "metadata": {},
   "source": [
    "# Conclusion"
   ]
  },
  {
   "cell_type": "code",
   "execution_count": 26,
   "id": "6b6e25a8",
   "metadata": {},
   "outputs": [],
   "source": [
    "a=np.array(y_test)\n",
    "predicted=np.array(pred_test)\n",
    "df=pd.DataFrame({'Original':a,'Predicted':predicted})"
   ]
  },
  {
   "cell_type": "code",
   "execution_count": 27,
   "id": "0acff6b1",
   "metadata": {},
   "outputs": [
    {
     "data": {
      "text/html": [
       "<div>\n",
       "<style scoped>\n",
       "    .dataframe tbody tr th:only-of-type {\n",
       "        vertical-align: middle;\n",
       "    }\n",
       "\n",
       "    .dataframe tbody tr th {\n",
       "        vertical-align: top;\n",
       "    }\n",
       "\n",
       "    .dataframe thead th {\n",
       "        text-align: right;\n",
       "    }\n",
       "</style>\n",
       "<table border=\"1\" class=\"dataframe\">\n",
       "  <thead>\n",
       "    <tr style=\"text-align: right;\">\n",
       "      <th></th>\n",
       "      <th>Original</th>\n",
       "      <th>Predicted</th>\n",
       "    </tr>\n",
       "  </thead>\n",
       "  <tbody>\n",
       "    <tr>\n",
       "      <th>0</th>\n",
       "      <td>7.200</td>\n",
       "      <td>7.199800</td>\n",
       "    </tr>\n",
       "    <tr>\n",
       "      <th>1</th>\n",
       "      <td>7.522</td>\n",
       "      <td>7.522122</td>\n",
       "    </tr>\n",
       "    <tr>\n",
       "      <th>2</th>\n",
       "      <td>3.575</td>\n",
       "      <td>3.574589</td>\n",
       "    </tr>\n",
       "    <tr>\n",
       "      <th>3</th>\n",
       "      <td>7.378</td>\n",
       "      <td>7.378057</td>\n",
       "    </tr>\n",
       "    <tr>\n",
       "      <th>4</th>\n",
       "      <td>4.514</td>\n",
       "      <td>4.514384</td>\n",
       "    </tr>\n",
       "    <tr>\n",
       "      <th>5</th>\n",
       "      <td>4.218</td>\n",
       "      <td>4.218538</td>\n",
       "    </tr>\n",
       "    <tr>\n",
       "      <th>6</th>\n",
       "      <td>5.474</td>\n",
       "      <td>5.473739</td>\n",
       "    </tr>\n",
       "    <tr>\n",
       "      <th>7</th>\n",
       "      <td>3.896</td>\n",
       "      <td>3.896537</td>\n",
       "    </tr>\n",
       "    <tr>\n",
       "      <th>8</th>\n",
       "      <td>6.574</td>\n",
       "      <td>6.574081</td>\n",
       "    </tr>\n",
       "    <tr>\n",
       "      <th>9</th>\n",
       "      <td>4.033</td>\n",
       "      <td>4.033087</td>\n",
       "    </tr>\n",
       "    <tr>\n",
       "      <th>10</th>\n",
       "      <td>4.350</td>\n",
       "      <td>4.350033</td>\n",
       "    </tr>\n",
       "    <tr>\n",
       "      <th>11</th>\n",
       "      <td>4.642</td>\n",
       "      <td>4.642354</td>\n",
       "    </tr>\n",
       "    <tr>\n",
       "      <th>12</th>\n",
       "      <td>3.995</td>\n",
       "      <td>3.994832</td>\n",
       "    </tr>\n",
       "    <tr>\n",
       "      <th>13</th>\n",
       "      <td>5.124</td>\n",
       "      <td>5.124217</td>\n",
       "    </tr>\n",
       "    <tr>\n",
       "      <th>14</th>\n",
       "      <td>5.995</td>\n",
       "      <td>5.995136</td>\n",
       "    </tr>\n",
       "    <tr>\n",
       "      <th>15</th>\n",
       "      <td>5.960</td>\n",
       "      <td>5.959656</td>\n",
       "    </tr>\n",
       "    <tr>\n",
       "      <th>16</th>\n",
       "      <td>7.406</td>\n",
       "      <td>7.405979</td>\n",
       "    </tr>\n",
       "    <tr>\n",
       "      <th>17</th>\n",
       "      <td>6.786</td>\n",
       "      <td>6.786240</td>\n",
       "    </tr>\n",
       "    <tr>\n",
       "      <th>18</th>\n",
       "      <td>6.798</td>\n",
       "      <td>6.797680</td>\n",
       "    </tr>\n",
       "    <tr>\n",
       "      <th>19</th>\n",
       "      <td>5.848</td>\n",
       "      <td>5.847672</td>\n",
       "    </tr>\n",
       "    <tr>\n",
       "      <th>20</th>\n",
       "      <td>6.130</td>\n",
       "      <td>6.130174</td>\n",
       "    </tr>\n",
       "    <tr>\n",
       "      <th>21</th>\n",
       "      <td>6.329</td>\n",
       "      <td>6.328947</td>\n",
       "    </tr>\n",
       "    <tr>\n",
       "      <th>22</th>\n",
       "      <td>4.867</td>\n",
       "      <td>4.867236</td>\n",
       "    </tr>\n",
       "    <tr>\n",
       "      <th>23</th>\n",
       "      <td>6.123</td>\n",
       "      <td>6.122777</td>\n",
       "    </tr>\n",
       "    <tr>\n",
       "      <th>24</th>\n",
       "      <td>6.750</td>\n",
       "      <td>6.750108</td>\n",
       "    </tr>\n",
       "    <tr>\n",
       "      <th>25</th>\n",
       "      <td>4.271</td>\n",
       "      <td>4.270668</td>\n",
       "    </tr>\n",
       "    <tr>\n",
       "      <th>26</th>\n",
       "      <td>5.695</td>\n",
       "      <td>5.695293</td>\n",
       "    </tr>\n",
       "    <tr>\n",
       "      <th>27</th>\n",
       "      <td>4.959</td>\n",
       "      <td>4.959382</td>\n",
       "    </tr>\n",
       "    <tr>\n",
       "      <th>28</th>\n",
       "      <td>5.007</td>\n",
       "      <td>5.007066</td>\n",
       "    </tr>\n",
       "    <tr>\n",
       "      <th>29</th>\n",
       "      <td>7.527</td>\n",
       "      <td>7.526952</td>\n",
       "    </tr>\n",
       "    <tr>\n",
       "      <th>30</th>\n",
       "      <td>4.369</td>\n",
       "      <td>4.369141</td>\n",
       "    </tr>\n",
       "    <tr>\n",
       "      <th>31</th>\n",
       "      <td>4.077</td>\n",
       "      <td>4.076779</td>\n",
       "    </tr>\n",
       "  </tbody>\n",
       "</table>\n",
       "</div>"
      ],
      "text/plain": [
       "    Original  Predicted\n",
       "0      7.200   7.199800\n",
       "1      7.522   7.522122\n",
       "2      3.575   3.574589\n",
       "3      7.378   7.378057\n",
       "4      4.514   4.514384\n",
       "5      4.218   4.218538\n",
       "6      5.474   5.473739\n",
       "7      3.896   3.896537\n",
       "8      6.574   6.574081\n",
       "9      4.033   4.033087\n",
       "10     4.350   4.350033\n",
       "11     4.642   4.642354\n",
       "12     3.995   3.994832\n",
       "13     5.124   5.124217\n",
       "14     5.995   5.995136\n",
       "15     5.960   5.959656\n",
       "16     7.406   7.405979\n",
       "17     6.786   6.786240\n",
       "18     6.798   6.797680\n",
       "19     5.848   5.847672\n",
       "20     6.130   6.130174\n",
       "21     6.329   6.328947\n",
       "22     4.867   4.867236\n",
       "23     6.123   6.122777\n",
       "24     6.750   6.750108\n",
       "25     4.271   4.270668\n",
       "26     5.695   5.695293\n",
       "27     4.959   4.959382\n",
       "28     5.007   5.007066\n",
       "29     7.527   7.526952\n",
       "30     4.369   4.369141\n",
       "31     4.077   4.076779"
      ]
     },
     "execution_count": 27,
     "metadata": {},
     "output_type": "execute_result"
    }
   ],
   "source": [
    "df"
   ]
  },
  {
   "cell_type": "code",
   "execution_count": null,
   "id": "efefa3a0",
   "metadata": {},
   "outputs": [],
   "source": []
  }
 ],
 "metadata": {
  "kernelspec": {
   "display_name": "Python 3 (ipykernel)",
   "language": "python",
   "name": "python3"
  },
  "language_info": {
   "codemirror_mode": {
    "name": "ipython",
    "version": 3
   },
   "file_extension": ".py",
   "mimetype": "text/x-python",
   "name": "python",
   "nbconvert_exporter": "python",
   "pygments_lexer": "ipython3",
   "version": "3.9.12"
  }
 },
 "nbformat": 4,
 "nbformat_minor": 5
}
