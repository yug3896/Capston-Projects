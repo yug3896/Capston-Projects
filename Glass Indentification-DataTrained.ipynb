{
 "cells": [
  {
   "cell_type": "markdown",
   "id": "527a2ba5",
   "metadata": {},
   "source": [
    "# Problem Statement"
   ]
  },
  {
   "cell_type": "markdown",
   "id": "35e09656",
   "metadata": {},
   "source": [
    "## Glass Identification Dataset\n",
    "Problem Statement:\n",
    "The dataset describes the chemical properties of glass and involves classifying samples of glass using their chemical properties as one of six classes. The dataset was credited to Vina Spiehler in 1987. The study of classification of types of glass was motivated by criminological investigation. At the scene of the crime, the glass left can be used as evidence...if it is correctly identified!\n",
    "\n",
    "\n",
    "\n",
    "The chemical compositions are measured as the weight percent in corresponding oxide.\n",
    "\n",
    "Attribute Information-\n",
    "\n",
    " Id number: 1 to 214\n",
    " RI: refractive index\n",
    "Na: Sodium (unit measurement: weight percent in corresponding oxide, as are attributes 4-10)\n",
    "Mg: Magnesium\n",
    "Al: Aluminum\n",
    "Si: Silicon\n",
    "K: Potassium\n",
    "Ca: Calcium\n",
    "Ba: Barium\n",
    "Fe: Iron\n",
    "Type of glass: (class attribute)\n",
    "1- building_windows_float_processed\n",
    "2- building_windows_non_float_processed\n",
    "3- vehicle_windows_float_processed\n",
    "4- vehicle_windows_non_float_processed (none in this database)\n",
    "5- containers\n",
    "6- tableware\n",
    "7- headlamps\n",
    "\n",
    "There are 214 observations in the dataset. The dataset can be divided into window glass (classes 1-4) and non-window glass (classes 5-7). \n",
    "\n",
    "\n",
    "Predict : Type of glass\n",
    "\n",
    "Downlaod Files:\n",
    "https://raw.githubusercontent.com/dsrscientist/dataset3/main/glass.csv\n",
    "https://github.com/dsrscientist/dataset3"
   ]
  },
  {
   "cell_type": "markdown",
   "id": "e03d4845",
   "metadata": {},
   "source": [
    "# Importing dependencies"
   ]
  },
  {
   "cell_type": "code",
   "execution_count": 149,
   "id": "d1023ae0",
   "metadata": {},
   "outputs": [],
   "source": [
    "import pandas as pd\n",
    "import numpy as np\n",
    "import matplotlib.pyplot as plt\n",
    "import seaborn as sns\n",
    "from sklearn.model_selection import train_test_split, cross_val_score\n",
    "from sklearn.metrics import accuracy_score, confusion_matrix, classification_report\n",
    "%matplotlib inline\n",
    "import warnings\n",
    "warnings.filterwarnings('ignore')"
   ]
  },
  {
   "cell_type": "markdown",
   "id": "e24fee73",
   "metadata": {},
   "source": [
    "# Exploratory Data Analysis"
   ]
  },
  {
   "cell_type": "code",
   "execution_count": 150,
   "id": "4da68b02",
   "metadata": {},
   "outputs": [
    {
     "data": {
      "text/html": [
       "<div>\n",
       "<style scoped>\n",
       "    .dataframe tbody tr th:only-of-type {\n",
       "        vertical-align: middle;\n",
       "    }\n",
       "\n",
       "    .dataframe tbody tr th {\n",
       "        vertical-align: top;\n",
       "    }\n",
       "\n",
       "    .dataframe thead th {\n",
       "        text-align: right;\n",
       "    }\n",
       "</style>\n",
       "<table border=\"1\" class=\"dataframe\">\n",
       "  <thead>\n",
       "    <tr style=\"text-align: right;\">\n",
       "      <th></th>\n",
       "      <th>ID</th>\n",
       "      <th>RI</th>\n",
       "      <th>Na</th>\n",
       "      <th>Mg</th>\n",
       "      <th>Al</th>\n",
       "      <th>Si</th>\n",
       "      <th>K</th>\n",
       "      <th>Ca</th>\n",
       "      <th>Ba</th>\n",
       "      <th>Fe</th>\n",
       "      <th>Type</th>\n",
       "    </tr>\n",
       "  </thead>\n",
       "  <tbody>\n",
       "    <tr>\n",
       "      <th>0</th>\n",
       "      <td>1</td>\n",
       "      <td>1.52101</td>\n",
       "      <td>13.64</td>\n",
       "      <td>4.49</td>\n",
       "      <td>1.10</td>\n",
       "      <td>71.78</td>\n",
       "      <td>0.06</td>\n",
       "      <td>8.75</td>\n",
       "      <td>0.0</td>\n",
       "      <td>0.0</td>\n",
       "      <td>1</td>\n",
       "    </tr>\n",
       "    <tr>\n",
       "      <th>1</th>\n",
       "      <td>2</td>\n",
       "      <td>1.51761</td>\n",
       "      <td>13.89</td>\n",
       "      <td>3.60</td>\n",
       "      <td>1.36</td>\n",
       "      <td>72.73</td>\n",
       "      <td>0.48</td>\n",
       "      <td>7.83</td>\n",
       "      <td>0.0</td>\n",
       "      <td>0.0</td>\n",
       "      <td>1</td>\n",
       "    </tr>\n",
       "    <tr>\n",
       "      <th>2</th>\n",
       "      <td>3</td>\n",
       "      <td>1.51618</td>\n",
       "      <td>13.53</td>\n",
       "      <td>3.55</td>\n",
       "      <td>1.54</td>\n",
       "      <td>72.99</td>\n",
       "      <td>0.39</td>\n",
       "      <td>7.78</td>\n",
       "      <td>0.0</td>\n",
       "      <td>0.0</td>\n",
       "      <td>1</td>\n",
       "    </tr>\n",
       "    <tr>\n",
       "      <th>3</th>\n",
       "      <td>4</td>\n",
       "      <td>1.51766</td>\n",
       "      <td>13.21</td>\n",
       "      <td>3.69</td>\n",
       "      <td>1.29</td>\n",
       "      <td>72.61</td>\n",
       "      <td>0.57</td>\n",
       "      <td>8.22</td>\n",
       "      <td>0.0</td>\n",
       "      <td>0.0</td>\n",
       "      <td>1</td>\n",
       "    </tr>\n",
       "    <tr>\n",
       "      <th>4</th>\n",
       "      <td>5</td>\n",
       "      <td>1.51742</td>\n",
       "      <td>13.27</td>\n",
       "      <td>3.62</td>\n",
       "      <td>1.24</td>\n",
       "      <td>73.08</td>\n",
       "      <td>0.55</td>\n",
       "      <td>8.07</td>\n",
       "      <td>0.0</td>\n",
       "      <td>0.0</td>\n",
       "      <td>1</td>\n",
       "    </tr>\n",
       "  </tbody>\n",
       "</table>\n",
       "</div>"
      ],
      "text/plain": [
       "   ID       RI     Na    Mg    Al     Si     K    Ca   Ba   Fe  Type\n",
       "0   1  1.52101  13.64  4.49  1.10  71.78  0.06  8.75  0.0  0.0     1\n",
       "1   2  1.51761  13.89  3.60  1.36  72.73  0.48  7.83  0.0  0.0     1\n",
       "2   3  1.51618  13.53  3.55  1.54  72.99  0.39  7.78  0.0  0.0     1\n",
       "3   4  1.51766  13.21  3.69  1.29  72.61  0.57  8.22  0.0  0.0     1\n",
       "4   5  1.51742  13.27  3.62  1.24  73.08  0.55  8.07  0.0  0.0     1"
      ]
     },
     "execution_count": 150,
     "metadata": {},
     "output_type": "execute_result"
    }
   ],
   "source": [
    "# Loading data\n",
    "data=pd.read_csv('glass.csv')\n",
    "data.head()"
   ]
  },
  {
   "cell_type": "code",
   "execution_count": 151,
   "id": "35560c0b",
   "metadata": {},
   "outputs": [
    {
     "data": {
      "text/plain": [
       "(214, 11)"
      ]
     },
     "execution_count": 151,
     "metadata": {},
     "output_type": "execute_result"
    }
   ],
   "source": [
    "data.shape"
   ]
  },
  {
   "cell_type": "markdown",
   "id": "2106f097",
   "metadata": {},
   "source": [
    "##### We have 124 rows and 11 columns"
   ]
  },
  {
   "cell_type": "code",
   "execution_count": 152,
   "id": "fd0b4b93",
   "metadata": {
    "scrolled": true
   },
   "outputs": [
    {
     "name": "stdout",
     "output_type": "stream",
     "text": [
      "<class 'pandas.core.frame.DataFrame'>\n",
      "RangeIndex: 214 entries, 0 to 213\n",
      "Data columns (total 11 columns):\n",
      " #   Column  Non-Null Count  Dtype  \n",
      "---  ------  --------------  -----  \n",
      " 0   ID      214 non-null    int64  \n",
      " 1   RI      214 non-null    float64\n",
      " 2   Na      214 non-null    float64\n",
      " 3   Mg      214 non-null    float64\n",
      " 4   Al      214 non-null    float64\n",
      " 5   Si      214 non-null    float64\n",
      " 6   K       214 non-null    float64\n",
      " 7   Ca      214 non-null    float64\n",
      " 8   Ba      214 non-null    float64\n",
      " 9   Fe      214 non-null    float64\n",
      " 10  Type    214 non-null    int64  \n",
      "dtypes: float64(9), int64(2)\n",
      "memory usage: 18.5 KB\n"
     ]
    }
   ],
   "source": [
    "data.info()"
   ]
  },
  {
   "cell_type": "markdown",
   "id": "7d290b9a",
   "metadata": {},
   "source": [
    "##### All the data is of numerical and is of float and int data type."
   ]
  },
  {
   "cell_type": "code",
   "execution_count": 153,
   "id": "6b330a73",
   "metadata": {},
   "outputs": [
    {
     "data": {
      "text/plain": [
       "0"
      ]
     },
     "execution_count": 153,
     "metadata": {},
     "output_type": "execute_result"
    }
   ],
   "source": [
    "# Checking for null values\n",
    "data.isnull().any().sum()"
   ]
  },
  {
   "cell_type": "markdown",
   "id": "df2e4b11",
   "metadata": {},
   "source": [
    "#### We have no null values in our data"
   ]
  },
  {
   "cell_type": "code",
   "execution_count": 155,
   "id": "8c14520d",
   "metadata": {},
   "outputs": [
    {
     "data": {
      "text/plain": [
       "0"
      ]
     },
     "execution_count": 155,
     "metadata": {},
     "output_type": "execute_result"
    }
   ],
   "source": [
    "# Checking for duplicates\n",
    "data.duplicated().sum()"
   ]
  },
  {
   "cell_type": "markdown",
   "id": "a48df920",
   "metadata": {},
   "source": [
    "### Data Cleaning"
   ]
  },
  {
   "cell_type": "code",
   "execution_count": 6,
   "id": "6a9923b3",
   "metadata": {},
   "outputs": [
    {
     "data": {
      "text/html": [
       "<div>\n",
       "<style scoped>\n",
       "    .dataframe tbody tr th:only-of-type {\n",
       "        vertical-align: middle;\n",
       "    }\n",
       "\n",
       "    .dataframe tbody tr th {\n",
       "        vertical-align: top;\n",
       "    }\n",
       "\n",
       "    .dataframe thead th {\n",
       "        text-align: right;\n",
       "    }\n",
       "</style>\n",
       "<table border=\"1\" class=\"dataframe\">\n",
       "  <thead>\n",
       "    <tr style=\"text-align: right;\">\n",
       "      <th></th>\n",
       "      <th>RI</th>\n",
       "      <th>Na</th>\n",
       "      <th>Mg</th>\n",
       "      <th>Al</th>\n",
       "      <th>Si</th>\n",
       "      <th>K</th>\n",
       "      <th>Ca</th>\n",
       "      <th>Ba</th>\n",
       "      <th>Fe</th>\n",
       "      <th>Type</th>\n",
       "    </tr>\n",
       "  </thead>\n",
       "  <tbody>\n",
       "    <tr>\n",
       "      <th>0</th>\n",
       "      <td>1.52101</td>\n",
       "      <td>13.64</td>\n",
       "      <td>4.49</td>\n",
       "      <td>1.10</td>\n",
       "      <td>71.78</td>\n",
       "      <td>0.06</td>\n",
       "      <td>8.75</td>\n",
       "      <td>0.0</td>\n",
       "      <td>0.0</td>\n",
       "      <td>1</td>\n",
       "    </tr>\n",
       "    <tr>\n",
       "      <th>1</th>\n",
       "      <td>1.51761</td>\n",
       "      <td>13.89</td>\n",
       "      <td>3.60</td>\n",
       "      <td>1.36</td>\n",
       "      <td>72.73</td>\n",
       "      <td>0.48</td>\n",
       "      <td>7.83</td>\n",
       "      <td>0.0</td>\n",
       "      <td>0.0</td>\n",
       "      <td>1</td>\n",
       "    </tr>\n",
       "    <tr>\n",
       "      <th>2</th>\n",
       "      <td>1.51618</td>\n",
       "      <td>13.53</td>\n",
       "      <td>3.55</td>\n",
       "      <td>1.54</td>\n",
       "      <td>72.99</td>\n",
       "      <td>0.39</td>\n",
       "      <td>7.78</td>\n",
       "      <td>0.0</td>\n",
       "      <td>0.0</td>\n",
       "      <td>1</td>\n",
       "    </tr>\n",
       "    <tr>\n",
       "      <th>3</th>\n",
       "      <td>1.51766</td>\n",
       "      <td>13.21</td>\n",
       "      <td>3.69</td>\n",
       "      <td>1.29</td>\n",
       "      <td>72.61</td>\n",
       "      <td>0.57</td>\n",
       "      <td>8.22</td>\n",
       "      <td>0.0</td>\n",
       "      <td>0.0</td>\n",
       "      <td>1</td>\n",
       "    </tr>\n",
       "    <tr>\n",
       "      <th>4</th>\n",
       "      <td>1.51742</td>\n",
       "      <td>13.27</td>\n",
       "      <td>3.62</td>\n",
       "      <td>1.24</td>\n",
       "      <td>73.08</td>\n",
       "      <td>0.55</td>\n",
       "      <td>8.07</td>\n",
       "      <td>0.0</td>\n",
       "      <td>0.0</td>\n",
       "      <td>1</td>\n",
       "    </tr>\n",
       "  </tbody>\n",
       "</table>\n",
       "</div>"
      ],
      "text/plain": [
       "        RI     Na    Mg    Al     Si     K    Ca   Ba   Fe  Type\n",
       "0  1.52101  13.64  4.49  1.10  71.78  0.06  8.75  0.0  0.0     1\n",
       "1  1.51761  13.89  3.60  1.36  72.73  0.48  7.83  0.0  0.0     1\n",
       "2  1.51618  13.53  3.55  1.54  72.99  0.39  7.78  0.0  0.0     1\n",
       "3  1.51766  13.21  3.69  1.29  72.61  0.57  8.22  0.0  0.0     1\n",
       "4  1.51742  13.27  3.62  1.24  73.08  0.55  8.07  0.0  0.0     1"
      ]
     },
     "execution_count": 6,
     "metadata": {},
     "output_type": "execute_result"
    }
   ],
   "source": [
    "# Droping ID column as it doesn't required for predicting\n",
    "data.drop(['ID'], axis=1, inplace=True)\n",
    "data.head()"
   ]
  },
  {
   "cell_type": "code",
   "execution_count": null,
   "id": "c7f17aea",
   "metadata": {},
   "outputs": [],
   "source": []
  },
  {
   "cell_type": "code",
   "execution_count": 7,
   "id": "baee8528",
   "metadata": {
    "scrolled": true
   },
   "outputs": [
    {
     "data": {
      "text/plain": [
       "RI      178\n",
       "Na      142\n",
       "Mg       94\n",
       "Al      118\n",
       "Si      133\n",
       "K        65\n",
       "Ca      143\n",
       "Ba       34\n",
       "Fe       32\n",
       "Type      6\n",
       "dtype: int64"
      ]
     },
     "execution_count": 7,
     "metadata": {},
     "output_type": "execute_result"
    }
   ],
   "source": [
    "data.nunique()"
   ]
  },
  {
   "cell_type": "code",
   "execution_count": 8,
   "id": "23ce6da2",
   "metadata": {},
   "outputs": [
    {
     "data": {
      "text/html": [
       "<div>\n",
       "<style scoped>\n",
       "    .dataframe tbody tr th:only-of-type {\n",
       "        vertical-align: middle;\n",
       "    }\n",
       "\n",
       "    .dataframe tbody tr th {\n",
       "        vertical-align: top;\n",
       "    }\n",
       "\n",
       "    .dataframe thead th {\n",
       "        text-align: right;\n",
       "    }\n",
       "</style>\n",
       "<table border=\"1\" class=\"dataframe\">\n",
       "  <thead>\n",
       "    <tr style=\"text-align: right;\">\n",
       "      <th></th>\n",
       "      <th>count</th>\n",
       "      <th>mean</th>\n",
       "      <th>std</th>\n",
       "      <th>min</th>\n",
       "      <th>25%</th>\n",
       "      <th>50%</th>\n",
       "      <th>75%</th>\n",
       "      <th>max</th>\n",
       "    </tr>\n",
       "  </thead>\n",
       "  <tbody>\n",
       "    <tr>\n",
       "      <th>RI</th>\n",
       "      <td>214.0</td>\n",
       "      <td>1.518365</td>\n",
       "      <td>0.003037</td>\n",
       "      <td>1.51115</td>\n",
       "      <td>1.516522</td>\n",
       "      <td>1.51768</td>\n",
       "      <td>1.519157</td>\n",
       "      <td>1.53393</td>\n",
       "    </tr>\n",
       "    <tr>\n",
       "      <th>Na</th>\n",
       "      <td>214.0</td>\n",
       "      <td>13.407850</td>\n",
       "      <td>0.816604</td>\n",
       "      <td>10.73000</td>\n",
       "      <td>12.907500</td>\n",
       "      <td>13.30000</td>\n",
       "      <td>13.825000</td>\n",
       "      <td>17.38000</td>\n",
       "    </tr>\n",
       "    <tr>\n",
       "      <th>Mg</th>\n",
       "      <td>214.0</td>\n",
       "      <td>2.684533</td>\n",
       "      <td>1.442408</td>\n",
       "      <td>0.00000</td>\n",
       "      <td>2.115000</td>\n",
       "      <td>3.48000</td>\n",
       "      <td>3.600000</td>\n",
       "      <td>4.49000</td>\n",
       "    </tr>\n",
       "    <tr>\n",
       "      <th>Al</th>\n",
       "      <td>214.0</td>\n",
       "      <td>1.444907</td>\n",
       "      <td>0.499270</td>\n",
       "      <td>0.29000</td>\n",
       "      <td>1.190000</td>\n",
       "      <td>1.36000</td>\n",
       "      <td>1.630000</td>\n",
       "      <td>3.50000</td>\n",
       "    </tr>\n",
       "    <tr>\n",
       "      <th>Si</th>\n",
       "      <td>214.0</td>\n",
       "      <td>72.650935</td>\n",
       "      <td>0.774546</td>\n",
       "      <td>69.81000</td>\n",
       "      <td>72.280000</td>\n",
       "      <td>72.79000</td>\n",
       "      <td>73.087500</td>\n",
       "      <td>75.41000</td>\n",
       "    </tr>\n",
       "    <tr>\n",
       "      <th>K</th>\n",
       "      <td>214.0</td>\n",
       "      <td>0.497056</td>\n",
       "      <td>0.652192</td>\n",
       "      <td>0.00000</td>\n",
       "      <td>0.122500</td>\n",
       "      <td>0.55500</td>\n",
       "      <td>0.610000</td>\n",
       "      <td>6.21000</td>\n",
       "    </tr>\n",
       "    <tr>\n",
       "      <th>Ca</th>\n",
       "      <td>214.0</td>\n",
       "      <td>8.956963</td>\n",
       "      <td>1.423153</td>\n",
       "      <td>5.43000</td>\n",
       "      <td>8.240000</td>\n",
       "      <td>8.60000</td>\n",
       "      <td>9.172500</td>\n",
       "      <td>16.19000</td>\n",
       "    </tr>\n",
       "    <tr>\n",
       "      <th>Ba</th>\n",
       "      <td>214.0</td>\n",
       "      <td>0.175047</td>\n",
       "      <td>0.497219</td>\n",
       "      <td>0.00000</td>\n",
       "      <td>0.000000</td>\n",
       "      <td>0.00000</td>\n",
       "      <td>0.000000</td>\n",
       "      <td>3.15000</td>\n",
       "    </tr>\n",
       "    <tr>\n",
       "      <th>Fe</th>\n",
       "      <td>214.0</td>\n",
       "      <td>0.057009</td>\n",
       "      <td>0.097439</td>\n",
       "      <td>0.00000</td>\n",
       "      <td>0.000000</td>\n",
       "      <td>0.00000</td>\n",
       "      <td>0.100000</td>\n",
       "      <td>0.51000</td>\n",
       "    </tr>\n",
       "    <tr>\n",
       "      <th>Type</th>\n",
       "      <td>214.0</td>\n",
       "      <td>2.780374</td>\n",
       "      <td>2.103739</td>\n",
       "      <td>1.00000</td>\n",
       "      <td>1.000000</td>\n",
       "      <td>2.00000</td>\n",
       "      <td>3.000000</td>\n",
       "      <td>7.00000</td>\n",
       "    </tr>\n",
       "  </tbody>\n",
       "</table>\n",
       "</div>"
      ],
      "text/plain": [
       "      count       mean       std       min        25%       50%        75%  \\\n",
       "RI    214.0   1.518365  0.003037   1.51115   1.516522   1.51768   1.519157   \n",
       "Na    214.0  13.407850  0.816604  10.73000  12.907500  13.30000  13.825000   \n",
       "Mg    214.0   2.684533  1.442408   0.00000   2.115000   3.48000   3.600000   \n",
       "Al    214.0   1.444907  0.499270   0.29000   1.190000   1.36000   1.630000   \n",
       "Si    214.0  72.650935  0.774546  69.81000  72.280000  72.79000  73.087500   \n",
       "K     214.0   0.497056  0.652192   0.00000   0.122500   0.55500   0.610000   \n",
       "Ca    214.0   8.956963  1.423153   5.43000   8.240000   8.60000   9.172500   \n",
       "Ba    214.0   0.175047  0.497219   0.00000   0.000000   0.00000   0.000000   \n",
       "Fe    214.0   0.057009  0.097439   0.00000   0.000000   0.00000   0.100000   \n",
       "Type  214.0   2.780374  2.103739   1.00000   1.000000   2.00000   3.000000   \n",
       "\n",
       "           max  \n",
       "RI     1.53393  \n",
       "Na    17.38000  \n",
       "Mg     4.49000  \n",
       "Al     3.50000  \n",
       "Si    75.41000  \n",
       "K      6.21000  \n",
       "Ca    16.19000  \n",
       "Ba     3.15000  \n",
       "Fe     0.51000  \n",
       "Type   7.00000  "
      ]
     },
     "execution_count": 8,
     "metadata": {},
     "output_type": "execute_result"
    }
   ],
   "source": [
    "data.describe().T"
   ]
  },
  {
   "cell_type": "code",
   "execution_count": 9,
   "id": "1417d081",
   "metadata": {},
   "outputs": [
    {
     "data": {
      "text/plain": [
       "array([1, 2, 3, 5, 6, 7], dtype=int64)"
      ]
     },
     "execution_count": 9,
     "metadata": {},
     "output_type": "execute_result"
    }
   ],
   "source": [
    "data['Type'].unique()"
   ]
  },
  {
   "cell_type": "code",
   "execution_count": 10,
   "id": "9058fd40",
   "metadata": {},
   "outputs": [
    {
     "data": {
      "text/plain": [
       "2    76\n",
       "1    70\n",
       "7    29\n",
       "3    17\n",
       "5    13\n",
       "6     9\n",
       "Name: Type, dtype: int64"
      ]
     },
     "execution_count": 10,
     "metadata": {},
     "output_type": "execute_result"
    }
   ],
   "source": [
    "data['Type'].value_counts()"
   ]
  },
  {
   "cell_type": "code",
   "execution_count": 11,
   "id": "c5eaa886",
   "metadata": {
    "scrolled": true
   },
   "outputs": [
    {
     "data": {
      "text/plain": [
       "<AxesSubplot:xlabel='Type', ylabel='count'>"
      ]
     },
     "execution_count": 11,
     "metadata": {},
     "output_type": "execute_result"
    },
    {
     "data": {
      "image/png": "[encoded data removed]",
      "text/plain": [
       "<Figure size 432x288 with 1 Axes>"
      ]
     },
     "metadata": {
      "needs_background": "light"
     },
     "output_type": "display_data"
    }
   ],
   "source": [
    "# ploting coutplot for target columns\n",
    "sns.countplot(data['Type'],color='c')"
   ]
  },
  {
   "cell_type": "code",
   "execution_count": 12,
   "id": "90e61271",
   "metadata": {},
   "outputs": [
    {
     "data": {
      "text/html": [
       "<div>\n",
       "<style scoped>\n",
       "    .dataframe tbody tr th:only-of-type {\n",
       "        vertical-align: middle;\n",
       "    }\n",
       "\n",
       "    .dataframe tbody tr th {\n",
       "        vertical-align: top;\n",
       "    }\n",
       "\n",
       "    .dataframe thead th {\n",
       "        text-align: right;\n",
       "    }\n",
       "</style>\n",
       "<table border=\"1\" class=\"dataframe\">\n",
       "  <thead>\n",
       "    <tr style=\"text-align: right;\">\n",
       "      <th></th>\n",
       "      <th>RI</th>\n",
       "      <th>Na</th>\n",
       "      <th>Mg</th>\n",
       "      <th>Al</th>\n",
       "      <th>Si</th>\n",
       "      <th>K</th>\n",
       "      <th>Ca</th>\n",
       "      <th>Ba</th>\n",
       "      <th>Fe</th>\n",
       "      <th>Type</th>\n",
       "    </tr>\n",
       "  </thead>\n",
       "  <tbody>\n",
       "    <tr>\n",
       "      <th>RI</th>\n",
       "      <td>1.000000</td>\n",
       "      <td>-0.191885</td>\n",
       "      <td>-0.122274</td>\n",
       "      <td>-0.407326</td>\n",
       "      <td>-0.542052</td>\n",
       "      <td>-0.289833</td>\n",
       "      <td>0.810403</td>\n",
       "      <td>-0.000386</td>\n",
       "      <td>0.143010</td>\n",
       "      <td>-0.164237</td>\n",
       "    </tr>\n",
       "    <tr>\n",
       "      <th>Na</th>\n",
       "      <td>-0.191885</td>\n",
       "      <td>1.000000</td>\n",
       "      <td>-0.273732</td>\n",
       "      <td>0.156794</td>\n",
       "      <td>-0.069809</td>\n",
       "      <td>-0.266087</td>\n",
       "      <td>-0.275442</td>\n",
       "      <td>0.326603</td>\n",
       "      <td>-0.241346</td>\n",
       "      <td>0.502898</td>\n",
       "    </tr>\n",
       "    <tr>\n",
       "      <th>Mg</th>\n",
       "      <td>-0.122274</td>\n",
       "      <td>-0.273732</td>\n",
       "      <td>1.000000</td>\n",
       "      <td>-0.481799</td>\n",
       "      <td>-0.165927</td>\n",
       "      <td>0.005396</td>\n",
       "      <td>-0.443750</td>\n",
       "      <td>-0.492262</td>\n",
       "      <td>0.083060</td>\n",
       "      <td>-0.744993</td>\n",
       "    </tr>\n",
       "    <tr>\n",
       "      <th>Al</th>\n",
       "      <td>-0.407326</td>\n",
       "      <td>0.156794</td>\n",
       "      <td>-0.481799</td>\n",
       "      <td>1.000000</td>\n",
       "      <td>-0.005524</td>\n",
       "      <td>0.325958</td>\n",
       "      <td>-0.259592</td>\n",
       "      <td>0.479404</td>\n",
       "      <td>-0.074402</td>\n",
       "      <td>0.598829</td>\n",
       "    </tr>\n",
       "    <tr>\n",
       "      <th>Si</th>\n",
       "      <td>-0.542052</td>\n",
       "      <td>-0.069809</td>\n",
       "      <td>-0.165927</td>\n",
       "      <td>-0.005524</td>\n",
       "      <td>1.000000</td>\n",
       "      <td>-0.193331</td>\n",
       "      <td>-0.208732</td>\n",
       "      <td>-0.102151</td>\n",
       "      <td>-0.094201</td>\n",
       "      <td>0.151565</td>\n",
       "    </tr>\n",
       "    <tr>\n",
       "      <th>K</th>\n",
       "      <td>-0.289833</td>\n",
       "      <td>-0.266087</td>\n",
       "      <td>0.005396</td>\n",
       "      <td>0.325958</td>\n",
       "      <td>-0.193331</td>\n",
       "      <td>1.000000</td>\n",
       "      <td>-0.317836</td>\n",
       "      <td>-0.042618</td>\n",
       "      <td>-0.007719</td>\n",
       "      <td>-0.010054</td>\n",
       "    </tr>\n",
       "    <tr>\n",
       "      <th>Ca</th>\n",
       "      <td>0.810403</td>\n",
       "      <td>-0.275442</td>\n",
       "      <td>-0.443750</td>\n",
       "      <td>-0.259592</td>\n",
       "      <td>-0.208732</td>\n",
       "      <td>-0.317836</td>\n",
       "      <td>1.000000</td>\n",
       "      <td>-0.112841</td>\n",
       "      <td>0.124968</td>\n",
       "      <td>0.000952</td>\n",
       "    </tr>\n",
       "    <tr>\n",
       "      <th>Ba</th>\n",
       "      <td>-0.000386</td>\n",
       "      <td>0.326603</td>\n",
       "      <td>-0.492262</td>\n",
       "      <td>0.479404</td>\n",
       "      <td>-0.102151</td>\n",
       "      <td>-0.042618</td>\n",
       "      <td>-0.112841</td>\n",
       "      <td>1.000000</td>\n",
       "      <td>-0.058692</td>\n",
       "      <td>0.575161</td>\n",
       "    </tr>\n",
       "    <tr>\n",
       "      <th>Fe</th>\n",
       "      <td>0.143010</td>\n",
       "      <td>-0.241346</td>\n",
       "      <td>0.083060</td>\n",
       "      <td>-0.074402</td>\n",
       "      <td>-0.094201</td>\n",
       "      <td>-0.007719</td>\n",
       "      <td>0.124968</td>\n",
       "      <td>-0.058692</td>\n",
       "      <td>1.000000</td>\n",
       "      <td>-0.188278</td>\n",
       "    </tr>\n",
       "    <tr>\n",
       "      <th>Type</th>\n",
       "      <td>-0.164237</td>\n",
       "      <td>0.502898</td>\n",
       "      <td>-0.744993</td>\n",
       "      <td>0.598829</td>\n",
       "      <td>0.151565</td>\n",
       "      <td>-0.010054</td>\n",
       "      <td>0.000952</td>\n",
       "      <td>0.575161</td>\n",
       "      <td>-0.188278</td>\n",
       "      <td>1.000000</td>\n",
       "    </tr>\n",
       "  </tbody>\n",
       "</table>\n",
       "</div>"
      ],
      "text/plain": [
       "            RI        Na        Mg        Al        Si         K        Ca  \\\n",
       "RI    1.000000 -0.191885 -0.122274 -0.407326 -0.542052 -0.289833  0.810403   \n",
       "Na   -0.191885  1.000000 -0.273732  0.156794 -0.069809 -0.266087 -0.275442   \n",
       "Mg   -0.122274 -0.273732  1.000000 -0.481799 -0.165927  0.005396 -0.443750   \n",
       "Al   -0.407326  0.156794 -0.481799  1.000000 -0.005524  0.325958 -0.259592   \n",
       "Si   -0.542052 -0.069809 -0.165927 -0.005524  1.000000 -0.193331 -0.208732   \n",
       "K    -0.289833 -0.266087  0.005396  0.325958 -0.193331  1.000000 -0.317836   \n",
       "Ca    0.810403 -0.275442 -0.443750 -0.259592 -0.208732 -0.317836  1.000000   \n",
       "Ba   -0.000386  0.326603 -0.492262  0.479404 -0.102151 -0.042618 -0.112841   \n",
       "Fe    0.143010 -0.241346  0.083060 -0.074402 -0.094201 -0.007719  0.124968   \n",
       "Type -0.164237  0.502898 -0.744993  0.598829  0.151565 -0.010054  0.000952   \n",
       "\n",
       "            Ba        Fe      Type  \n",
       "RI   -0.000386  0.143010 -0.164237  \n",
       "Na    0.326603 -0.241346  0.502898  \n",
       "Mg   -0.492262  0.083060 -0.744993  \n",
       "Al    0.479404 -0.074402  0.598829  \n",
       "Si   -0.102151 -0.094201  0.151565  \n",
       "K    -0.042618 -0.007719 -0.010054  \n",
       "Ca   -0.112841  0.124968  0.000952  \n",
       "Ba    1.000000 -0.058692  0.575161  \n",
       "Fe   -0.058692  1.000000 -0.188278  \n",
       "Type  0.575161 -0.188278  1.000000  "
      ]
     },
     "execution_count": 12,
     "metadata": {},
     "output_type": "execute_result"
    }
   ],
   "source": [
    "data.corr()"
   ]
  },
  {
   "cell_type": "code",
   "execution_count": 13,
   "id": "70ab0ed0",
   "metadata": {},
   "outputs": [
    {
     "data": {
      "text/plain": [
       "Mg     -0.744993\n",
       "Fe     -0.188278\n",
       "RI     -0.164237\n",
       "K      -0.010054\n",
       "Ca      0.000952\n",
       "Si      0.151565\n",
       "Na      0.502898\n",
       "Ba      0.575161\n",
       "Al      0.598829\n",
       "Type    1.000000\n",
       "Name: Type, dtype: float64"
      ]
     },
     "execution_count": 13,
     "metadata": {},
     "output_type": "execute_result"
    }
   ],
   "source": [
    "# Checking the correlation of target with other columns\n",
    "data.corr()['Type'].sort_values()"
   ]
  },
  {
   "cell_type": "code",
   "execution_count": 14,
   "id": "62bea36a",
   "metadata": {},
   "outputs": [
    {
     "data": {
      "text/plain": [
       "<AxesSubplot:>"
      ]
     },
     "execution_count": 14,
     "metadata": {},
     "output_type": "execute_result"
    },
    {
     "data": {
      "image/png": "[encoded data removed]",
      "text/plain": [
       "<Figure size 1584x504 with 2 Axes>"
      ]
     },
     "metadata": {
      "needs_background": "light"
     },
     "output_type": "display_data"
    }
   ],
   "source": [
    "plt.figure(figsize=(22,7))\n",
    "sns.heatmap(data.corr(), annot=True)"
   ]
  },
  {
   "cell_type": "code",
   "execution_count": null,
   "id": "6015b55e",
   "metadata": {},
   "outputs": [],
   "source": []
  },
  {
   "cell_type": "markdown",
   "id": "39ea9ea2",
   "metadata": {},
   "source": [
    "# Data Visualisation"
   ]
  },
  {
   "cell_type": "code",
   "execution_count": 15,
   "id": "d80094ee",
   "metadata": {},
   "outputs": [
    {
     "data": {
      "text/html": [
       "<div>\n",
       "<style scoped>\n",
       "    .dataframe tbody tr th:only-of-type {\n",
       "        vertical-align: middle;\n",
       "    }\n",
       "\n",
       "    .dataframe tbody tr th {\n",
       "        vertical-align: top;\n",
       "    }\n",
       "\n",
       "    .dataframe thead th {\n",
       "        text-align: right;\n",
       "    }\n",
       "</style>\n",
       "<table border=\"1\" class=\"dataframe\">\n",
       "  <thead>\n",
       "    <tr style=\"text-align: right;\">\n",
       "      <th></th>\n",
       "      <th>RI</th>\n",
       "      <th>Na</th>\n",
       "      <th>Mg</th>\n",
       "      <th>Al</th>\n",
       "      <th>Si</th>\n",
       "      <th>K</th>\n",
       "      <th>Ca</th>\n",
       "      <th>Ba</th>\n",
       "      <th>Fe</th>\n",
       "      <th>Type</th>\n",
       "    </tr>\n",
       "  </thead>\n",
       "  <tbody>\n",
       "    <tr>\n",
       "      <th>0</th>\n",
       "      <td>1.52101</td>\n",
       "      <td>13.64</td>\n",
       "      <td>4.49</td>\n",
       "      <td>1.10</td>\n",
       "      <td>71.78</td>\n",
       "      <td>0.06</td>\n",
       "      <td>8.75</td>\n",
       "      <td>0.00</td>\n",
       "      <td>0.0</td>\n",
       "      <td>1</td>\n",
       "    </tr>\n",
       "    <tr>\n",
       "      <th>1</th>\n",
       "      <td>1.51761</td>\n",
       "      <td>13.89</td>\n",
       "      <td>3.60</td>\n",
       "      <td>1.36</td>\n",
       "      <td>72.73</td>\n",
       "      <td>0.48</td>\n",
       "      <td>7.83</td>\n",
       "      <td>0.00</td>\n",
       "      <td>0.0</td>\n",
       "      <td>1</td>\n",
       "    </tr>\n",
       "    <tr>\n",
       "      <th>2</th>\n",
       "      <td>1.51618</td>\n",
       "      <td>13.53</td>\n",
       "      <td>3.55</td>\n",
       "      <td>1.54</td>\n",
       "      <td>72.99</td>\n",
       "      <td>0.39</td>\n",
       "      <td>7.78</td>\n",
       "      <td>0.00</td>\n",
       "      <td>0.0</td>\n",
       "      <td>1</td>\n",
       "    </tr>\n",
       "    <tr>\n",
       "      <th>3</th>\n",
       "      <td>1.51766</td>\n",
       "      <td>13.21</td>\n",
       "      <td>3.69</td>\n",
       "      <td>1.29</td>\n",
       "      <td>72.61</td>\n",
       "      <td>0.57</td>\n",
       "      <td>8.22</td>\n",
       "      <td>0.00</td>\n",
       "      <td>0.0</td>\n",
       "      <td>1</td>\n",
       "    </tr>\n",
       "    <tr>\n",
       "      <th>4</th>\n",
       "      <td>1.51742</td>\n",
       "      <td>13.27</td>\n",
       "      <td>3.62</td>\n",
       "      <td>1.24</td>\n",
       "      <td>73.08</td>\n",
       "      <td>0.55</td>\n",
       "      <td>8.07</td>\n",
       "      <td>0.00</td>\n",
       "      <td>0.0</td>\n",
       "      <td>1</td>\n",
       "    </tr>\n",
       "    <tr>\n",
       "      <th>...</th>\n",
       "      <td>...</td>\n",
       "      <td>...</td>\n",
       "      <td>...</td>\n",
       "      <td>...</td>\n",
       "      <td>...</td>\n",
       "      <td>...</td>\n",
       "      <td>...</td>\n",
       "      <td>...</td>\n",
       "      <td>...</td>\n",
       "      <td>...</td>\n",
       "    </tr>\n",
       "    <tr>\n",
       "      <th>209</th>\n",
       "      <td>1.51623</td>\n",
       "      <td>14.14</td>\n",
       "      <td>0.00</td>\n",
       "      <td>2.88</td>\n",
       "      <td>72.61</td>\n",
       "      <td>0.08</td>\n",
       "      <td>9.18</td>\n",
       "      <td>1.06</td>\n",
       "      <td>0.0</td>\n",
       "      <td>7</td>\n",
       "    </tr>\n",
       "    <tr>\n",
       "      <th>210</th>\n",
       "      <td>1.51685</td>\n",
       "      <td>14.92</td>\n",
       "      <td>0.00</td>\n",
       "      <td>1.99</td>\n",
       "      <td>73.06</td>\n",
       "      <td>0.00</td>\n",
       "      <td>8.40</td>\n",
       "      <td>1.59</td>\n",
       "      <td>0.0</td>\n",
       "      <td>7</td>\n",
       "    </tr>\n",
       "    <tr>\n",
       "      <th>211</th>\n",
       "      <td>1.52065</td>\n",
       "      <td>14.36</td>\n",
       "      <td>0.00</td>\n",
       "      <td>2.02</td>\n",
       "      <td>73.42</td>\n",
       "      <td>0.00</td>\n",
       "      <td>8.44</td>\n",
       "      <td>1.64</td>\n",
       "      <td>0.0</td>\n",
       "      <td>7</td>\n",
       "    </tr>\n",
       "    <tr>\n",
       "      <th>212</th>\n",
       "      <td>1.51651</td>\n",
       "      <td>14.38</td>\n",
       "      <td>0.00</td>\n",
       "      <td>1.94</td>\n",
       "      <td>73.61</td>\n",
       "      <td>0.00</td>\n",
       "      <td>8.48</td>\n",
       "      <td>1.57</td>\n",
       "      <td>0.0</td>\n",
       "      <td>7</td>\n",
       "    </tr>\n",
       "    <tr>\n",
       "      <th>213</th>\n",
       "      <td>1.51711</td>\n",
       "      <td>14.23</td>\n",
       "      <td>0.00</td>\n",
       "      <td>2.08</td>\n",
       "      <td>73.36</td>\n",
       "      <td>0.00</td>\n",
       "      <td>8.62</td>\n",
       "      <td>1.67</td>\n",
       "      <td>0.0</td>\n",
       "      <td>7</td>\n",
       "    </tr>\n",
       "  </tbody>\n",
       "</table>\n",
       "<p>214 rows × 10 columns</p>\n",
       "</div>"
      ],
      "text/plain": [
       "          RI     Na    Mg    Al     Si     K    Ca    Ba   Fe  Type\n",
       "0    1.52101  13.64  4.49  1.10  71.78  0.06  8.75  0.00  0.0     1\n",
       "1    1.51761  13.89  3.60  1.36  72.73  0.48  7.83  0.00  0.0     1\n",
       "2    1.51618  13.53  3.55  1.54  72.99  0.39  7.78  0.00  0.0     1\n",
       "3    1.51766  13.21  3.69  1.29  72.61  0.57  8.22  0.00  0.0     1\n",
       "4    1.51742  13.27  3.62  1.24  73.08  0.55  8.07  0.00  0.0     1\n",
       "..       ...    ...   ...   ...    ...   ...   ...   ...  ...   ...\n",
       "209  1.51623  14.14  0.00  2.88  72.61  0.08  9.18  1.06  0.0     7\n",
       "210  1.51685  14.92  0.00  1.99  73.06  0.00  8.40  1.59  0.0     7\n",
       "211  1.52065  14.36  0.00  2.02  73.42  0.00  8.44  1.64  0.0     7\n",
       "212  1.51651  14.38  0.00  1.94  73.61  0.00  8.48  1.57  0.0     7\n",
       "213  1.51711  14.23  0.00  2.08  73.36  0.00  8.62  1.67  0.0     7\n",
       "\n",
       "[214 rows x 10 columns]"
      ]
     },
     "execution_count": 15,
     "metadata": {},
     "output_type": "execute_result"
    }
   ],
   "source": [
    "data"
   ]
  },
  {
   "cell_type": "code",
   "execution_count": 16,
   "id": "47ad2d3e",
   "metadata": {},
   "outputs": [
    {
     "data": {
      "text/plain": [
       "<AxesSubplot:xlabel='Type', ylabel='count'>"
      ]
     },
     "execution_count": 16,
     "metadata": {},
     "output_type": "execute_result"
    },
    {
     "data": {
      "image/png": "[encoded data removed]",
      "text/plain": [
       "<Figure size 432x864 with 1 Axes>"
      ]
     },
     "metadata": {
      "needs_background": "light"
     },
     "output_type": "display_data"
    }
   ],
   "source": [
    "plt.figure(figsize=(6,12))\n",
    "sns.countplot(data['Type'])"
   ]
  },
  {
   "cell_type": "markdown",
   "id": "8b16ea0d",
   "metadata": {},
   "source": [
    "#### Most glasses are of type 2 folloewd by type 1 glass. Type 6 glasses are least in the dataset."
   ]
  },
  {
   "cell_type": "code",
   "execution_count": 17,
   "id": "b31bfb40",
   "metadata": {
    "scrolled": true
   },
   "outputs": [
    {
     "data": {
      "image/png": "[encoded data removed]",
      "text/plain": [
       "<Figure size 1440x1080 with 10 Axes>"
      ]
     },
     "metadata": {},
     "output_type": "display_data"
    }
   ],
   "source": [
    "#Lets plot distribution plot\n",
    "plt.figure(figsize=(20,15),facecolor='orange')\n",
    "plotnumber = 1\n",
    "for col in data :\n",
    "    if plotnumber<=10:\n",
    "        ax=plt.subplot(2,5,plotnumber)\n",
    "        sns.distplot(data[col])\n",
    "        plt.xlabel(col,fontsize=20)\n",
    "    plotnumber +=1\n",
    "plt.show()"
   ]
  },
  {
   "cell_type": "markdown",
   "id": "6bc61a54",
   "metadata": {},
   "source": [
    "## Finding\n",
    "Majority data for 'RI' lies arround 1.52 and is right skewed.\n",
    "Majority data for 'NA' lies between 12-16 and is slightly right skewed.\n",
    "Majority data for 'Mg' is between 3-4 and is left skewed.\n",
    "Majority data for 'AI' is between 1-42 and is slightly right skewed.\n",
    "Majority data for 'SI' is between 72-74 and is left skewed.\n",
    "Majority data for 'K' is between 0-1 and is right skewed.\n",
    "Majority data for 'Ca' is between 8-10 and is right skewed.\n",
    "Majority data for 'Ba' at 0 and is right skewed.\n",
    "Majority data for 'Fe' at 0 and is right skewed.\n"
   ]
  },
  {
   "cell_type": "code",
   "execution_count": null,
   "id": "b4d23e92",
   "metadata": {},
   "outputs": [],
   "source": []
  },
  {
   "cell_type": "markdown",
   "id": "3a1da98c",
   "metadata": {},
   "source": [
    "# Encoding"
   ]
  },
  {
   "cell_type": "code",
   "execution_count": 18,
   "id": "2182f173",
   "metadata": {},
   "outputs": [
    {
     "data": {
      "text/html": [
       "<div>\n",
       "<style scoped>\n",
       "    .dataframe tbody tr th:only-of-type {\n",
       "        vertical-align: middle;\n",
       "    }\n",
       "\n",
       "    .dataframe tbody tr th {\n",
       "        vertical-align: top;\n",
       "    }\n",
       "\n",
       "    .dataframe thead th {\n",
       "        text-align: right;\n",
       "    }\n",
       "</style>\n",
       "<table border=\"1\" class=\"dataframe\">\n",
       "  <thead>\n",
       "    <tr style=\"text-align: right;\">\n",
       "      <th></th>\n",
       "      <th>RI</th>\n",
       "      <th>Na</th>\n",
       "      <th>Mg</th>\n",
       "      <th>Al</th>\n",
       "      <th>Si</th>\n",
       "      <th>K</th>\n",
       "      <th>Ca</th>\n",
       "      <th>Ba</th>\n",
       "      <th>Fe</th>\n",
       "      <th>Type</th>\n",
       "    </tr>\n",
       "  </thead>\n",
       "  <tbody>\n",
       "    <tr>\n",
       "      <th>0</th>\n",
       "      <td>1.52101</td>\n",
       "      <td>13.64</td>\n",
       "      <td>4.49</td>\n",
       "      <td>1.10</td>\n",
       "      <td>71.78</td>\n",
       "      <td>0.06</td>\n",
       "      <td>8.75</td>\n",
       "      <td>0.00</td>\n",
       "      <td>0.0</td>\n",
       "      <td>1</td>\n",
       "    </tr>\n",
       "    <tr>\n",
       "      <th>1</th>\n",
       "      <td>1.51761</td>\n",
       "      <td>13.89</td>\n",
       "      <td>3.60</td>\n",
       "      <td>1.36</td>\n",
       "      <td>72.73</td>\n",
       "      <td>0.48</td>\n",
       "      <td>7.83</td>\n",
       "      <td>0.00</td>\n",
       "      <td>0.0</td>\n",
       "      <td>1</td>\n",
       "    </tr>\n",
       "    <tr>\n",
       "      <th>2</th>\n",
       "      <td>1.51618</td>\n",
       "      <td>13.53</td>\n",
       "      <td>3.55</td>\n",
       "      <td>1.54</td>\n",
       "      <td>72.99</td>\n",
       "      <td>0.39</td>\n",
       "      <td>7.78</td>\n",
       "      <td>0.00</td>\n",
       "      <td>0.0</td>\n",
       "      <td>1</td>\n",
       "    </tr>\n",
       "    <tr>\n",
       "      <th>3</th>\n",
       "      <td>1.51766</td>\n",
       "      <td>13.21</td>\n",
       "      <td>3.69</td>\n",
       "      <td>1.29</td>\n",
       "      <td>72.61</td>\n",
       "      <td>0.57</td>\n",
       "      <td>8.22</td>\n",
       "      <td>0.00</td>\n",
       "      <td>0.0</td>\n",
       "      <td>1</td>\n",
       "    </tr>\n",
       "    <tr>\n",
       "      <th>4</th>\n",
       "      <td>1.51742</td>\n",
       "      <td>13.27</td>\n",
       "      <td>3.62</td>\n",
       "      <td>1.24</td>\n",
       "      <td>73.08</td>\n",
       "      <td>0.55</td>\n",
       "      <td>8.07</td>\n",
       "      <td>0.00</td>\n",
       "      <td>0.0</td>\n",
       "      <td>1</td>\n",
       "    </tr>\n",
       "    <tr>\n",
       "      <th>...</th>\n",
       "      <td>...</td>\n",
       "      <td>...</td>\n",
       "      <td>...</td>\n",
       "      <td>...</td>\n",
       "      <td>...</td>\n",
       "      <td>...</td>\n",
       "      <td>...</td>\n",
       "      <td>...</td>\n",
       "      <td>...</td>\n",
       "      <td>...</td>\n",
       "    </tr>\n",
       "    <tr>\n",
       "      <th>209</th>\n",
       "      <td>1.51623</td>\n",
       "      <td>14.14</td>\n",
       "      <td>0.00</td>\n",
       "      <td>2.88</td>\n",
       "      <td>72.61</td>\n",
       "      <td>0.08</td>\n",
       "      <td>9.18</td>\n",
       "      <td>1.06</td>\n",
       "      <td>0.0</td>\n",
       "      <td>7</td>\n",
       "    </tr>\n",
       "    <tr>\n",
       "      <th>210</th>\n",
       "      <td>1.51685</td>\n",
       "      <td>14.92</td>\n",
       "      <td>0.00</td>\n",
       "      <td>1.99</td>\n",
       "      <td>73.06</td>\n",
       "      <td>0.00</td>\n",
       "      <td>8.40</td>\n",
       "      <td>1.59</td>\n",
       "      <td>0.0</td>\n",
       "      <td>7</td>\n",
       "    </tr>\n",
       "    <tr>\n",
       "      <th>211</th>\n",
       "      <td>1.52065</td>\n",
       "      <td>14.36</td>\n",
       "      <td>0.00</td>\n",
       "      <td>2.02</td>\n",
       "      <td>73.42</td>\n",
       "      <td>0.00</td>\n",
       "      <td>8.44</td>\n",
       "      <td>1.64</td>\n",
       "      <td>0.0</td>\n",
       "      <td>7</td>\n",
       "    </tr>\n",
       "    <tr>\n",
       "      <th>212</th>\n",
       "      <td>1.51651</td>\n",
       "      <td>14.38</td>\n",
       "      <td>0.00</td>\n",
       "      <td>1.94</td>\n",
       "      <td>73.61</td>\n",
       "      <td>0.00</td>\n",
       "      <td>8.48</td>\n",
       "      <td>1.57</td>\n",
       "      <td>0.0</td>\n",
       "      <td>7</td>\n",
       "    </tr>\n",
       "    <tr>\n",
       "      <th>213</th>\n",
       "      <td>1.51711</td>\n",
       "      <td>14.23</td>\n",
       "      <td>0.00</td>\n",
       "      <td>2.08</td>\n",
       "      <td>73.36</td>\n",
       "      <td>0.00</td>\n",
       "      <td>8.62</td>\n",
       "      <td>1.67</td>\n",
       "      <td>0.0</td>\n",
       "      <td>7</td>\n",
       "    </tr>\n",
       "  </tbody>\n",
       "</table>\n",
       "<p>214 rows × 10 columns</p>\n",
       "</div>"
      ],
      "text/plain": [
       "          RI     Na    Mg    Al     Si     K    Ca    Ba   Fe  Type\n",
       "0    1.52101  13.64  4.49  1.10  71.78  0.06  8.75  0.00  0.0     1\n",
       "1    1.51761  13.89  3.60  1.36  72.73  0.48  7.83  0.00  0.0     1\n",
       "2    1.51618  13.53  3.55  1.54  72.99  0.39  7.78  0.00  0.0     1\n",
       "3    1.51766  13.21  3.69  1.29  72.61  0.57  8.22  0.00  0.0     1\n",
       "4    1.51742  13.27  3.62  1.24  73.08  0.55  8.07  0.00  0.0     1\n",
       "..       ...    ...   ...   ...    ...   ...   ...   ...  ...   ...\n",
       "209  1.51623  14.14  0.00  2.88  72.61  0.08  9.18  1.06  0.0     7\n",
       "210  1.51685  14.92  0.00  1.99  73.06  0.00  8.40  1.59  0.0     7\n",
       "211  1.52065  14.36  0.00  2.02  73.42  0.00  8.44  1.64  0.0     7\n",
       "212  1.51651  14.38  0.00  1.94  73.61  0.00  8.48  1.57  0.0     7\n",
       "213  1.51711  14.23  0.00  2.08  73.36  0.00  8.62  1.67  0.0     7\n",
       "\n",
       "[214 rows x 10 columns]"
      ]
     },
     "execution_count": 18,
     "metadata": {},
     "output_type": "execute_result"
    }
   ],
   "source": [
    "data"
   ]
  },
  {
   "cell_type": "code",
   "execution_count": 19,
   "id": "5cdb5f21",
   "metadata": {
    "scrolled": true
   },
   "outputs": [
    {
     "data": {
      "text/plain": [
       "RI      float64\n",
       "Na      float64\n",
       "Mg      float64\n",
       "Al      float64\n",
       "Si      float64\n",
       "K       float64\n",
       "Ca      float64\n",
       "Ba      float64\n",
       "Fe      float64\n",
       "Type      int64\n",
       "dtype: object"
      ]
     },
     "execution_count": 19,
     "metadata": {},
     "output_type": "execute_result"
    }
   ],
   "source": [
    "data.dtypes"
   ]
  },
  {
   "cell_type": "markdown",
   "id": "f71d18e0",
   "metadata": {},
   "source": [
    "### We have only 1 categorical data(target) which is already in encoded form."
   ]
  },
  {
   "cell_type": "markdown",
   "id": "ed13147e",
   "metadata": {},
   "source": [
    "# Data Preprocessing"
   ]
  },
  {
   "cell_type": "markdown",
   "id": "042424a4",
   "metadata": {},
   "source": [
    "###### Deviding data into feature(x) and target (y)"
   ]
  },
  {
   "cell_type": "code",
   "execution_count": 20,
   "id": "66f14fcd",
   "metadata": {},
   "outputs": [],
   "source": [
    "x=data.drop('Type', axis=1)\n",
    "Y=data['Type']"
   ]
  },
  {
   "cell_type": "code",
   "execution_count": null,
   "id": "b9d97c5a",
   "metadata": {},
   "outputs": [],
   "source": []
  },
  {
   "cell_type": "markdown",
   "id": "fc062918",
   "metadata": {},
   "source": [
    "###### Outliers"
   ]
  },
  {
   "cell_type": "code",
   "execution_count": 21,
   "id": "900ec9ba",
   "metadata": {},
   "outputs": [
    {
     "data": {
      "text/plain": [
       "<AxesSubplot:>"
      ]
     },
     "execution_count": 21,
     "metadata": {},
     "output_type": "execute_result"
    },
    {
     "data": {
      "image/png": "[encoded data removed]",
      "text/plain": [
       "<Figure size 432x288 with 1 Axes>"
      ]
     },
     "metadata": {
      "needs_background": "light"
     },
     "output_type": "display_data"
    }
   ],
   "source": [
    "sns.boxplot(data=data['RI'])"
   ]
  },
  {
   "cell_type": "code",
   "execution_count": 22,
   "id": "59b10cb9",
   "metadata": {},
   "outputs": [
    {
     "data": {
      "text/plain": [
       "<AxesSubplot:>"
      ]
     },
     "execution_count": 22,
     "metadata": {},
     "output_type": "execute_result"
    },
    {
     "data": {
      "image/png": "[encoded data removed]",
      "text/plain": [
       "<Figure size 432x288 with 1 Axes>"
      ]
     },
     "metadata": {
      "needs_background": "light"
     },
     "output_type": "display_data"
    }
   ],
   "source": [
    "sns.boxplot(data=data['Mg'])"
   ]
  },
  {
   "cell_type": "code",
   "execution_count": 23,
   "id": "404b5c0d",
   "metadata": {},
   "outputs": [
    {
     "data": {
      "text/plain": [
       "<AxesSubplot:>"
      ]
     },
     "execution_count": 23,
     "metadata": {},
     "output_type": "execute_result"
    },
    {
     "data": {
      "image/png": "[encoded data removed]",
      "text/plain": [
       "<Figure size 432x288 with 1 Axes>"
      ]
     },
     "metadata": {
      "needs_background": "light"
     },
     "output_type": "display_data"
    }
   ],
   "source": [
    "sns.boxplot(data=data['Na'])"
   ]
  },
  {
   "cell_type": "code",
   "execution_count": 24,
   "id": "f2853f28",
   "metadata": {
    "scrolled": true
   },
   "outputs": [
    {
     "data": {
      "text/plain": [
       "<AxesSubplot:>"
      ]
     },
     "execution_count": 24,
     "metadata": {},
     "output_type": "execute_result"
    },
    {
     "data": {
      "image/png": "[encoded data removed]",
      "text/plain": [
       "<Figure size 432x288 with 1 Axes>"
      ]
     },
     "metadata": {
      "needs_background": "light"
     },
     "output_type": "display_data"
    }
   ],
   "source": [
    "sns.boxplot(data=data['Al'])"
   ]
  },
  {
   "cell_type": "code",
   "execution_count": 25,
   "id": "3f1455c6",
   "metadata": {},
   "outputs": [
    {
     "data": {
      "text/plain": [
       "<AxesSubplot:>"
      ]
     },
     "execution_count": 25,
     "metadata": {},
     "output_type": "execute_result"
    },
    {
     "data": {
      "image/png": "[encoded data removed]",
      "text/plain": [
       "<Figure size 432x288 with 1 Axes>"
      ]
     },
     "metadata": {
      "needs_background": "light"
     },
     "output_type": "display_data"
    }
   ],
   "source": [
    "sns.boxplot(data=data['Si'])"
   ]
  },
  {
   "cell_type": "code",
   "execution_count": 26,
   "id": "9871f679",
   "metadata": {},
   "outputs": [
    {
     "data": {
      "text/plain": [
       "<AxesSubplot:>"
      ]
     },
     "execution_count": 26,
     "metadata": {},
     "output_type": "execute_result"
    },
    {
     "data": {
      "image/png": "[encoded data removed]",
      "text/plain": [
       "<Figure size 432x288 with 1 Axes>"
      ]
     },
     "metadata": {
      "needs_background": "light"
     },
     "output_type": "display_data"
    }
   ],
   "source": [
    "sns.boxplot(data=data['K'])"
   ]
  },
  {
   "cell_type": "code",
   "execution_count": 27,
   "id": "fb7c607f",
   "metadata": {},
   "outputs": [
    {
     "data": {
      "text/plain": [
       "<AxesSubplot:>"
      ]
     },
     "execution_count": 27,
     "metadata": {},
     "output_type": "execute_result"
    },
    {
     "data": {
      "image/png": "[encoded data removed]",
      "text/plain": [
       "<Figure size 432x288 with 1 Axes>"
      ]
     },
     "metadata": {
      "needs_background": "light"
     },
     "output_type": "display_data"
    }
   ],
   "source": [
    "sns.boxplot(data=data['Ca'])"
   ]
  },
  {
   "cell_type": "code",
   "execution_count": 28,
   "id": "1a881cc8",
   "metadata": {},
   "outputs": [
    {
     "data": {
      "text/plain": [
       "<AxesSubplot:>"
      ]
     },
     "execution_count": 28,
     "metadata": {},
     "output_type": "execute_result"
    },
    {
     "data": {
      "image/png": "[encoded data removed]",
      "text/plain": [
       "<Figure size 432x288 with 1 Axes>"
      ]
     },
     "metadata": {
      "needs_background": "light"
     },
     "output_type": "display_data"
    }
   ],
   "source": [
    "sns.boxplot(data=data['Ba'])"
   ]
  },
  {
   "cell_type": "code",
   "execution_count": 29,
   "id": "19d4ba99",
   "metadata": {},
   "outputs": [
    {
     "data": {
      "text/plain": [
       "<AxesSubplot:>"
      ]
     },
     "execution_count": 29,
     "metadata": {},
     "output_type": "execute_result"
    },
    {
     "data": {
      "image/png": "[encoded data removed]",
      "text/plain": [
       "<Figure size 432x288 with 1 Axes>"
      ]
     },
     "metadata": {
      "needs_background": "light"
     },
     "output_type": "display_data"
    }
   ],
   "source": [
    "sns.boxplot(data=data['Fe'])"
   ]
  },
  {
   "cell_type": "markdown",
   "id": "69b5b81b",
   "metadata": {},
   "source": [
    "#### we can see we have outlier in almost every column, hence we have to remove them."
   ]
  },
  {
   "cell_type": "markdown",
   "id": "ef53164a",
   "metadata": {},
   "source": [
    "#### Removing Outlier "
   ]
  },
  {
   "cell_type": "code",
   "execution_count": 30,
   "id": "73a6ed23",
   "metadata": {},
   "outputs": [
    {
     "data": {
      "text/plain": [
       "(214, 9)"
      ]
     },
     "execution_count": 30,
     "metadata": {},
     "output_type": "execute_result"
    }
   ],
   "source": [
    "from scipy.stats import zscore\n",
    "z=np.abs(zscore(x))\n",
    "z.shape"
   ]
  },
  {
   "cell_type": "code",
   "execution_count": 31,
   "id": "8cc94fb2",
   "metadata": {},
   "outputs": [
    {
     "data": {
      "text/plain": [
       "(array([105, 106, 106, 106, 106, 106, 107, 107, 107, 110, 111, 112, 112,\n",
       "        131, 145, 162, 163, 163, 163, 171, 171, 172, 172, 174, 184, 184,\n",
       "        188, 189, 201, 201, 203, 207, 213], dtype=int64),\n",
       " array([6, 0, 1, 4, 6, 7, 0, 4, 6, 6, 6, 0, 6, 6, 8, 8, 3, 4, 7, 3, 5, 3,\n",
       "        5, 8, 1, 4, 4, 7, 4, 5, 7, 7, 7], dtype=int64))"
      ]
     },
     "execution_count": 31,
     "metadata": {},
     "output_type": "execute_result"
    }
   ],
   "source": [
    "np.where(z>3)"
   ]
  },
  {
   "cell_type": "code",
   "execution_count": 32,
   "id": "ed080aa4",
   "metadata": {},
   "outputs": [
    {
     "name": "stdout",
     "output_type": "stream",
     "text": [
      "(214, 10) \n",
      " (194, 10)\n"
     ]
    }
   ],
   "source": [
    "nd=data[(z<=3).all(axis=1)]\n",
    "print(data.shape,'\\n',nd.shape)\n"
   ]
  },
  {
   "cell_type": "markdown",
   "id": "93410969",
   "metadata": {},
   "source": [
    "## Data loss"
   ]
  },
  {
   "cell_type": "code",
   "execution_count": 33,
   "id": "d8648db4",
   "metadata": {},
   "outputs": [
    {
     "data": {
      "text/plain": [
       "9.345794392523365"
      ]
     },
     "execution_count": 33,
     "metadata": {},
     "output_type": "execute_result"
    }
   ],
   "source": [
    "(214-194)/214*100"
   ]
  },
  {
   "cell_type": "markdown",
   "id": "ca0676fd",
   "metadata": {},
   "source": [
    "###### 10% data loss is acceptable. Hence we will consider data after outlier removel."
   ]
  },
  {
   "cell_type": "markdown",
   "id": "d620b7ac",
   "metadata": {},
   "source": [
    "### New feature and target"
   ]
  },
  {
   "cell_type": "code",
   "execution_count": 34,
   "id": "0d70b54a",
   "metadata": {},
   "outputs": [],
   "source": [
    "nx=nd.drop('Type',axis=1)\n",
    "ny=nd['Type']"
   ]
  },
  {
   "cell_type": "markdown",
   "id": "8b29833a",
   "metadata": {},
   "source": [
    "### Data Distribution"
   ]
  },
  {
   "cell_type": "code",
   "execution_count": 35,
   "id": "ae2ae351",
   "metadata": {},
   "outputs": [
    {
     "data": {
      "image/png": "[encoded data removed]",
      "text/plain": [
       "<Figure size 360x360 with 1 Axes>"
      ]
     },
     "metadata": {
      "needs_background": "light"
     },
     "output_type": "display_data"
    },
    {
     "data": {
      "image/png": "[encoded data removed]",
      "text/plain": [
       "<Figure size 360x360 with 1 Axes>"
      ]
     },
     "metadata": {
      "needs_background": "light"
     },
     "output_type": "display_data"
    },
    {
     "data": {
      "image/png": "[encoded data removed]",
      "text/plain": [
       "<Figure size 360x360 with 1 Axes>"
      ]
     },
     "metadata": {
      "needs_background": "light"
     },
     "output_type": "display_data"
    },
    {
     "data": {
      "image/png": "[encoded data removed]",
      "text/plain": [
       "<Figure size 360x360 with 1 Axes>"
      ]
     },
     "metadata": {
      "needs_background": "light"
     },
     "output_type": "display_data"
    },
    {
     "data": {
      "image/png": "[encoded data removed]",
      "text/plain": [
       "<Figure size 360x360 with 1 Axes>"
      ]
     },
     "metadata": {
      "needs_background": "light"
     },
     "output_type": "display_data"
    },
    {
     "data": {
      "image/png": "[encoded data removed]",
      "text/plain": [
       "<Figure size 360x360 with 1 Axes>"
      ]
     },
     "metadata": {
      "needs_background": "light"
     },
     "output_type": "display_data"
    },
    {
     "data": {
      "image/png": "[encoded data removed]",
      "text/plain": [
       "<Figure size 360x360 with 1 Axes>"
      ]
     },
     "metadata": {
      "needs_background": "light"
     },
     "output_type": "display_data"
    },
    {
     "data": {
      "image/png": "[encoded data removed]",
      "text/plain": [
       "<Figure size 360x360 with 1 Axes>"
      ]
     },
     "metadata": {
      "needs_background": "light"
     },
     "output_type": "display_data"
    },
    {
     "data": {
      "image/png": "[encoded data removed]",
      "text/plain": [
       "<Figure size 360x360 with 1 Axes>"
      ]
     },
     "metadata": {
      "needs_background": "light"
     },
     "output_type": "display_data"
    }
   ],
   "source": [
    "# Checking for the skewness\n",
    "for i in nx:\n",
    "    sns.displot(nx[i], kde=True)"
   ]
  },
  {
   "cell_type": "markdown",
   "id": "b552a864",
   "metadata": {},
   "source": [
    "###  We can see our data is skewed."
   ]
  },
  {
   "cell_type": "code",
   "execution_count": 36,
   "id": "41999418",
   "metadata": {},
   "outputs": [
    {
     "data": {
      "text/plain": [
       "RI    0.952733\n",
       "Na    0.371482\n",
       "Mg   -1.528849\n",
       "Al    0.658259\n",
       "Si   -0.425450\n",
       "K     0.303175\n",
       "Ca    1.077962\n",
       "Ba    3.188587\n",
       "Fe    1.486479\n",
       "dtype: float64"
      ]
     },
     "execution_count": 36,
     "metadata": {},
     "output_type": "execute_result"
    }
   ],
   "source": [
    "nx.skew()"
   ]
  },
  {
   "cell_type": "code",
   "execution_count": 37,
   "id": "5d8bc113",
   "metadata": {},
   "outputs": [
    {
     "data": {
      "text/plain": [
       "RI     -0.167355\n",
       "Na      0.533025\n",
       "Mg     -0.810321\n",
       "Al      0.660262\n",
       "Si      0.262152\n",
       "K      -0.383499\n",
       "Ca      0.154762\n",
       "Ba      0.682768\n",
       "Fe     -0.202028\n",
       "Type    1.000000\n",
       "Name: Type, dtype: float64"
      ]
     },
     "execution_count": 37,
     "metadata": {},
     "output_type": "execute_result"
    }
   ],
   "source": [
    "nd.corr()['Type']"
   ]
  },
  {
   "cell_type": "markdown",
   "id": "dcb0adac",
   "metadata": {},
   "source": [
    "#### All the columns are highly correlated with target column. Hence we will not remove skewness as it will have some impact on our model."
   ]
  },
  {
   "cell_type": "code",
   "execution_count": null,
   "id": "b3e7b374",
   "metadata": {},
   "outputs": [],
   "source": []
  },
  {
   "cell_type": "markdown",
   "id": "d417e05e",
   "metadata": {},
   "source": [
    "## Resampling"
   ]
  },
  {
   "cell_type": "code",
   "execution_count": 38,
   "id": "8796a32a",
   "metadata": {},
   "outputs": [
    {
     "data": {
      "text/plain": [
       "1    36.082474\n",
       "2    35.051546\n",
       "7    11.855670\n",
       "3     8.247423\n",
       "5     4.639175\n",
       "6     4.123711\n",
       "Name: Type, dtype: float64"
      ]
     },
     "execution_count": 38,
     "metadata": {},
     "output_type": "execute_result"
    }
   ],
   "source": [
    "nd['Type'].value_counts(normalize=True)*100"
   ]
  },
  {
   "cell_type": "markdown",
   "id": "8a11a043",
   "metadata": {},
   "source": [
    "### There is data inbalanced and data is small. Hence we will use oversapling."
   ]
  },
  {
   "cell_type": "markdown",
   "id": "3d8d9cdd",
   "metadata": {},
   "source": [
    "#### Handling Data inbalance"
   ]
  },
  {
   "cell_type": "code",
   "execution_count": 39,
   "id": "66fd2b17",
   "metadata": {},
   "outputs": [],
   "source": [
    "#oversampling\n",
    "from imblearn.over_sampling import SMOTE\n",
    "smt=SMOTE()\n",
    "x,y=smt.fit_resample(nx,ny)"
   ]
  },
  {
   "cell_type": "code",
   "execution_count": 40,
   "id": "f107ae9c",
   "metadata": {},
   "outputs": [
    {
     "data": {
      "text/plain": [
       "1    70\n",
       "2    70\n",
       "3    70\n",
       "5    70\n",
       "6    70\n",
       "7    70\n",
       "Name: Type, dtype: int64"
      ]
     },
     "execution_count": 40,
     "metadata": {},
     "output_type": "execute_result"
    }
   ],
   "source": [
    "y.value_counts()"
   ]
  },
  {
   "cell_type": "code",
   "execution_count": 41,
   "id": "446b70d5",
   "metadata": {},
   "outputs": [
    {
     "data": {
      "text/plain": [
       "<AxesSubplot:ylabel='count'>"
      ]
     },
     "execution_count": 41,
     "metadata": {},
     "output_type": "execute_result"
    },
    {
     "data": {
      "image/png": "[encoded data removed]",
      "text/plain": [
       "<Figure size 432x288 with 1 Axes>"
      ]
     },
     "metadata": {
      "needs_background": "light"
     },
     "output_type": "display_data"
    }
   ],
   "source": [
    "sns.countplot(data=nd)"
   ]
  },
  {
   "cell_type": "markdown",
   "id": "c5270c86",
   "metadata": {},
   "source": [
    "## Scaling"
   ]
  },
  {
   "cell_type": "code",
   "execution_count": 42,
   "id": "a784881c",
   "metadata": {},
   "outputs": [
    {
     "data": {
      "text/html": [
       "<div>\n",
       "<style scoped>\n",
       "    .dataframe tbody tr th:only-of-type {\n",
       "        vertical-align: middle;\n",
       "    }\n",
       "\n",
       "    .dataframe tbody tr th {\n",
       "        vertical-align: top;\n",
       "    }\n",
       "\n",
       "    .dataframe thead th {\n",
       "        text-align: right;\n",
       "    }\n",
       "</style>\n",
       "<table border=\"1\" class=\"dataframe\">\n",
       "  <thead>\n",
       "    <tr style=\"text-align: right;\">\n",
       "      <th></th>\n",
       "      <th>RI</th>\n",
       "      <th>Na</th>\n",
       "      <th>Mg</th>\n",
       "      <th>Al</th>\n",
       "      <th>Si</th>\n",
       "      <th>K</th>\n",
       "      <th>Ca</th>\n",
       "      <th>Ba</th>\n",
       "      <th>Fe</th>\n",
       "    </tr>\n",
       "  </thead>\n",
       "  <tbody>\n",
       "    <tr>\n",
       "      <th>0</th>\n",
       "      <td>0.608532</td>\n",
       "      <td>0.633495</td>\n",
       "      <td>1.000000</td>\n",
       "      <td>0.312741</td>\n",
       "      <td>0.304020</td>\n",
       "      <td>0.034091</td>\n",
       "      <td>0.469590</td>\n",
       "      <td>0.0</td>\n",
       "      <td>0.0</td>\n",
       "    </tr>\n",
       "    <tr>\n",
       "      <th>1</th>\n",
       "      <td>0.395232</td>\n",
       "      <td>0.694175</td>\n",
       "      <td>0.801782</td>\n",
       "      <td>0.413127</td>\n",
       "      <td>0.542714</td>\n",
       "      <td>0.272727</td>\n",
       "      <td>0.339463</td>\n",
       "      <td>0.0</td>\n",
       "      <td>0.0</td>\n",
       "    </tr>\n",
       "    <tr>\n",
       "      <th>2</th>\n",
       "      <td>0.305521</td>\n",
       "      <td>0.606796</td>\n",
       "      <td>0.790646</td>\n",
       "      <td>0.482625</td>\n",
       "      <td>0.608040</td>\n",
       "      <td>0.221591</td>\n",
       "      <td>0.332390</td>\n",
       "      <td>0.0</td>\n",
       "      <td>0.0</td>\n",
       "    </tr>\n",
       "    <tr>\n",
       "      <th>3</th>\n",
       "      <td>0.398369</td>\n",
       "      <td>0.529126</td>\n",
       "      <td>0.821826</td>\n",
       "      <td>0.386100</td>\n",
       "      <td>0.512563</td>\n",
       "      <td>0.323864</td>\n",
       "      <td>0.394625</td>\n",
       "      <td>0.0</td>\n",
       "      <td>0.0</td>\n",
       "    </tr>\n",
       "    <tr>\n",
       "      <th>4</th>\n",
       "      <td>0.383312</td>\n",
       "      <td>0.543689</td>\n",
       "      <td>0.806236</td>\n",
       "      <td>0.366795</td>\n",
       "      <td>0.630653</td>\n",
       "      <td>0.312500</td>\n",
       "      <td>0.373409</td>\n",
       "      <td>0.0</td>\n",
       "      <td>0.0</td>\n",
       "    </tr>\n",
       "  </tbody>\n",
       "</table>\n",
       "</div>"
      ],
      "text/plain": [
       "         RI        Na        Mg        Al        Si         K        Ca   Ba  \\\n",
       "0  0.608532  0.633495  1.000000  0.312741  0.304020  0.034091  0.469590  0.0   \n",
       "1  0.395232  0.694175  0.801782  0.413127  0.542714  0.272727  0.339463  0.0   \n",
       "2  0.305521  0.606796  0.790646  0.482625  0.608040  0.221591  0.332390  0.0   \n",
       "3  0.398369  0.529126  0.821826  0.386100  0.512563  0.323864  0.394625  0.0   \n",
       "4  0.383312  0.543689  0.806236  0.366795  0.630653  0.312500  0.373409  0.0   \n",
       "\n",
       "    Fe  \n",
       "0  0.0  \n",
       "1  0.0  \n",
       "2  0.0  \n",
       "3  0.0  \n",
       "4  0.0  "
      ]
     },
     "execution_count": 42,
     "metadata": {},
     "output_type": "execute_result"
    }
   ],
   "source": [
    "from sklearn.preprocessing import MinMaxScaler,StandardScaler\n",
    "scaler=MinMaxScaler()\n",
    "\n",
    "xd=scaler.fit_transform(x)\n",
    "x=pd.DataFrame(xd,columns=x.columns)\n",
    "x.head()"
   ]
  },
  {
   "cell_type": "markdown",
   "id": "6cee0c3e",
   "metadata": {},
   "source": [
    "# ML Model Training"
   ]
  },
  {
   "cell_type": "code",
   "execution_count": 69,
   "id": "28ca5102",
   "metadata": {},
   "outputs": [
    {
     "name": "stdout",
     "output_type": "stream",
     "text": [
      "At random state 19 the training accuracy is 0.8839285714285714\n",
      "At random state 19 the test accuracy is 0.8809523809523809\n",
      "\n",
      "\n",
      "At random state 61 the training accuracy is 0.8928571428571429\n",
      "At random state 61 the test accuracy is 0.8809523809523809\n",
      "\n",
      "\n",
      "At random state 89 the training accuracy is 0.8898809523809523\n",
      "At random state 89 the test accuracy is 0.9166666666666666\n",
      "\n",
      "\n"
     ]
    }
   ],
   "source": [
    "# Getting the best random stae value\n",
    "from sklearn.neighbors import KNeighborsClassifier\n",
    "knn = KNeighborsClassifier()\n",
    "for i in range(0,100):\n",
    "    x_train,x_test,y_train,y_test=train_test_split(x,y, test_size=0.2, random_state=i)\n",
    "    knn.fit(x_train,y_train)\n",
    "    pred_train=knn.predict(x_train)\n",
    "    pred_test=knn.predict(x_test) \n",
    "    if (accuracy_score(y_train,pred_train)*100>88 and accuracy_score(y_test,pred_test)*100>88):\n",
    "                      print(\"At random state\", i ,\"the training accuracy is\", accuracy_score(y_train,pred_train))\n",
    "                      print(\"At random state\", i ,\"the test accuracy is\", accuracy_score(y_test,pred_test))\n",
    "                      print(\"\\n\")"
   ]
  },
  {
   "cell_type": "markdown",
   "id": "17be9b23",
   "metadata": {},
   "source": [
    "#### At randm state 19 we are receiving best accuracy of the model. Hence we will use random state=19 for our model."
   ]
  },
  {
   "cell_type": "markdown",
   "id": "951fdce6",
   "metadata": {},
   "source": [
    "## KNeighborsClassifier"
   ]
  },
  {
   "cell_type": "code",
   "execution_count": 70,
   "id": "350e640a",
   "metadata": {},
   "outputs": [
    {
     "name": "stdout",
     "output_type": "stream",
     "text": [
      "Accuracy\n",
      " 0.8809523809523809 \n",
      " 0.8839285714285714\n",
      "Confusion matrix\n",
      " [[12  2  3  0  0  0]\n",
      " [ 3  7  2  0  0  0]\n",
      " [ 0  0 17  0  0  0]\n",
      " [ 0  0  0 16  0  0]\n",
      " [ 0  0  0  0 12  0]\n",
      " [ 0  0  0  0  0 10]]\n",
      "classification Report\n",
      "               precision    recall  f1-score   support\n",
      "\n",
      "           1       0.80      0.71      0.75        17\n",
      "           2       0.78      0.58      0.67        12\n",
      "           3       0.77      1.00      0.87        17\n",
      "           5       1.00      1.00      1.00        16\n",
      "           6       1.00      1.00      1.00        12\n",
      "           7       1.00      1.00      1.00        10\n",
      "\n",
      "    accuracy                           0.88        84\n",
      "   macro avg       0.89      0.88      0.88        84\n",
      "weighted avg       0.88      0.88      0.88        84\n",
      "\n"
     ]
    }
   ],
   "source": [
    "x_train,x_test,y_train,y_test=train_test_split(x,y, test_size=0.2, random_state=19)\n",
    "                                               \n",
    "knn.fit(x_train,y_train)\n",
    "\n",
    "pred_train=knn.predict(x_train)\n",
    "pred_test=knn.predict(x_test)\n",
    "\n",
    "print('Accuracy\\n',accuracy_score(y_test,pred_test),'\\n', accuracy_score(y_train,pred_train))\n",
    "print('Confusion matrix\\n',confusion_matrix(y_test,pred_test))\n",
    "print('classification Report\\n',classification_report(y_test,pred_test))"
   ]
  },
  {
   "cell_type": "code",
   "execution_count": 83,
   "id": "e6241466",
   "metadata": {},
   "outputs": [
    {
     "name": "stdout",
     "output_type": "stream",
     "text": [
      "AT cross fold 2 the cv score is 0.769047619047619\n",
      "\n",
      "\n",
      "AT cross fold 3 the cv score is 0.8047619047619047\n",
      "\n",
      "\n",
      "AT cross fold 4 the cv score is 0.819047619047619\n",
      "\n",
      "\n",
      "AT cross fold 5 the cv score is 0.8119047619047619\n",
      "\n",
      "\n",
      "AT cross fold 6 the cv score is 0.8142857142857144\n",
      "\n",
      "\n",
      "AT cross fold 7 the cv score is 0.8119047619047618\n",
      "\n",
      "\n",
      "AT cross fold 8 the cv score is 0.8165820029027576\n",
      "\n",
      "\n",
      "AT cross fold 9 the cv score is 0.8259841710350498\n",
      "\n",
      "\n",
      "AT cross fold 10 the cv score is 0.8166666666666667\n",
      "\n",
      "\n",
      "AT cross fold 11 the cv score is 0.8237026131762974\n",
      "\n",
      "\n",
      "AT cross fold 12 the cv score is 0.8261904761904763\n",
      "\n",
      "\n",
      "AT cross fold 13 the cv score is 0.8285984848484849\n",
      "\n",
      "\n",
      "AT cross fold 14 the cv score is 0.830952380952381\n",
      "\n",
      "\n",
      "AT cross fold 15 the cv score is 0.8285714285714286\n",
      "\n",
      "\n"
     ]
    }
   ],
   "source": [
    "# Finding the best value of fold\n",
    "for j in range(2,16):\n",
    "    cv_score=cross_val_score(knn,x,y,cv=j)\n",
    "    cv_mean=cv_score.mean()\n",
    "    print(f\"AT cross fold {j} the cv score is {cv_mean}\")\n",
    "    print('\\n')"
   ]
  },
  {
   "cell_type": "markdown",
   "id": "50faa586",
   "metadata": {},
   "source": [
    "### At j=18 we are getting cross value score nearest to our accuracy score."
   ]
  },
  {
   "cell_type": "code",
   "execution_count": 84,
   "id": "9d72e68c",
   "metadata": {},
   "outputs": [
    {
     "name": "stdout",
     "output_type": "stream",
     "text": [
      "cv score is 0.830952380952381\n",
      "Difference between accuracy and validation score 0.04999999999999993\n"
     ]
    }
   ],
   "source": [
    "# cross validation for KNN model\n",
    "cv_score=cross_val_score(knn,x,y,cv=14)\n",
    "cv_mean=cv_score.mean()\n",
    "print(f\"cv score is {cv_mean}\")\n",
    "print('Difference between accuracy and validation score', accuracy_score(y_test,pred_test)-cv_mean)"
   ]
  },
  {
   "cell_type": "markdown",
   "id": "5eca4f70",
   "metadata": {},
   "source": [
    "## DecisionTreeClassifier"
   ]
  },
  {
   "cell_type": "code",
   "execution_count": 85,
   "id": "75bfeada",
   "metadata": {},
   "outputs": [
    {
     "name": "stdout",
     "output_type": "stream",
     "text": [
      "Accuracy\n",
      " 0.8571428571428571\n",
      "Confusion matrix\n",
      " [[13  3  0  0  0  1]\n",
      " [ 2  8  2  0  0  0]\n",
      " [ 3  1 13  0  0  0]\n",
      " [ 0  0  0 16  0  0]\n",
      " [ 0  0  0  0 12  0]\n",
      " [ 0  0  0  0  0 10]]\n",
      "classification Report\n",
      "               precision    recall  f1-score   support\n",
      "\n",
      "           1       0.72      0.76      0.74        17\n",
      "           2       0.67      0.67      0.67        12\n",
      "           3       0.87      0.76      0.81        17\n",
      "           5       1.00      1.00      1.00        16\n",
      "           6       1.00      1.00      1.00        12\n",
      "           7       0.91      1.00      0.95        10\n",
      "\n",
      "    accuracy                           0.86        84\n",
      "   macro avg       0.86      0.87      0.86        84\n",
      "weighted avg       0.86      0.86      0.86        84\n",
      "\n"
     ]
    }
   ],
   "source": [
    "from sklearn.tree import DecisionTreeClassifier\n",
    "\n",
    "d_tree = DecisionTreeClassifier()\n",
    "d_tree.fit(x_train,y_train)\n",
    "\n",
    "pred_test_tree=d_tree.predict(x_test)\n",
    "\n",
    "print('Accuracy\\n',accuracy_score(y_test,pred_test_tree))\n",
    "print('Confusion matrix\\n',confusion_matrix(y_test,pred_test_tree))\n",
    "print('classification Report\\n',classification_report(y_test,pred_test_tree))\n"
   ]
  },
  {
   "cell_type": "code",
   "execution_count": 86,
   "id": "d8ac46cc",
   "metadata": {},
   "outputs": [
    {
     "name": "stdout",
     "output_type": "stream",
     "text": [
      "cv score is 0.8428571428571431\n",
      "Difference between accuracy and validation score 0.014285714285714013\n"
     ]
    }
   ],
   "source": [
    "# cross validation for DecisionTreeClassifier\n",
    "cv_score=cross_val_score(d_tree,x,y,cv=14)\n",
    "cv_mean=cv_score.mean()\n",
    "print(f\"cv score is {cv_mean}\")\n",
    "print('Difference between accuracy and validation score', accuracy_score(y_test,pred_test_tree)-cv_mean)"
   ]
  },
  {
   "cell_type": "code",
   "execution_count": null,
   "id": "3a53a901",
   "metadata": {},
   "outputs": [],
   "source": []
  },
  {
   "cell_type": "code",
   "execution_count": 87,
   "id": "8263d32f",
   "metadata": {},
   "outputs": [],
   "source": [
    "# Ensemble technique\n",
    "from sklearn.ensemble import RandomForestClassifier,GradientBoostingClassifier, ExtraTreesClassifier"
   ]
  },
  {
   "cell_type": "markdown",
   "id": "5ecc66ec",
   "metadata": {},
   "source": [
    "## RandomForestClassifier"
   ]
  },
  {
   "cell_type": "code",
   "execution_count": 88,
   "id": "322944b9",
   "metadata": {},
   "outputs": [
    {
     "name": "stdout",
     "output_type": "stream",
     "text": [
      "Accuracy\n",
      " 0.9166666666666666\n",
      "Confusion matrix\n",
      " [[12  3  1  0  0  1]\n",
      " [ 1 10  1  0  0  0]\n",
      " [ 0  0 17  0  0  0]\n",
      " [ 0  0  0 16  0  0]\n",
      " [ 0  0  0  0 12  0]\n",
      " [ 0  0  0  0  0 10]]\n",
      "classification Report\n",
      "               precision    recall  f1-score   support\n",
      "\n",
      "           1       0.92      0.71      0.80        17\n",
      "           2       0.77      0.83      0.80        12\n",
      "           3       0.89      1.00      0.94        17\n",
      "           5       1.00      1.00      1.00        16\n",
      "           6       1.00      1.00      1.00        12\n",
      "           7       0.91      1.00      0.95        10\n",
      "\n",
      "    accuracy                           0.92        84\n",
      "   macro avg       0.92      0.92      0.92        84\n",
      "weighted avg       0.92      0.92      0.91        84\n",
      "\n"
     ]
    }
   ],
   "source": [
    "rfc = RandomForestClassifier()\n",
    "rfc.fit(x_train,y_train)\n",
    "\n",
    "pred_test_rfc=rfc.predict(x_test)\n",
    "\n",
    "print('Accuracy\\n',accuracy_score(y_test,pred_test_rfc))\n",
    "print('Confusion matrix\\n',confusion_matrix(y_test,pred_test_rfc))\n",
    "print('classification Report\\n',classification_report(y_test,pred_test_rfc))"
   ]
  },
  {
   "cell_type": "code",
   "execution_count": 89,
   "id": "04148ad4",
   "metadata": {},
   "outputs": [
    {
     "name": "stdout",
     "output_type": "stream",
     "text": [
      "cv score is 0.892857142857143\n",
      "Difference between accuracy and validation score 0.023809523809523614\n"
     ]
    }
   ],
   "source": [
    "# cross validation for RandomForestClassifier\n",
    "cv_score=cross_val_score(rfc,x,y,cv=14)\n",
    "cv_mean=cv_score.mean()\n",
    "print(f\"cv score is {cv_mean}\")\n",
    "print('Difference between accuracy and validation score', accuracy_score(y_test,pred_test_rfc)-cv_mean)"
   ]
  },
  {
   "cell_type": "code",
   "execution_count": null,
   "id": "ca51d71a",
   "metadata": {},
   "outputs": [],
   "source": []
  },
  {
   "cell_type": "markdown",
   "id": "84021b11",
   "metadata": {},
   "source": [
    "## GradientBoostingClassifier"
   ]
  },
  {
   "cell_type": "code",
   "execution_count": 90,
   "id": "ae190627",
   "metadata": {},
   "outputs": [
    {
     "name": "stdout",
     "output_type": "stream",
     "text": [
      "Accuracy\n",
      " 0.9285714285714286\n",
      "Confusion matrix\n",
      " [[13  2  0  1  0  1]\n",
      " [ 0 11  1  0  0  0]\n",
      " [ 1  0 16  0  0  0]\n",
      " [ 0  0  0 16  0  0]\n",
      " [ 0  0  0  0 12  0]\n",
      " [ 0  0  0  0  0 10]]\n",
      "classification Report\n",
      "               precision    recall  f1-score   support\n",
      "\n",
      "           1       0.93      0.76      0.84        17\n",
      "           2       0.85      0.92      0.88        12\n",
      "           3       0.94      0.94      0.94        17\n",
      "           5       0.94      1.00      0.97        16\n",
      "           6       1.00      1.00      1.00        12\n",
      "           7       0.91      1.00      0.95        10\n",
      "\n",
      "    accuracy                           0.93        84\n",
      "   macro avg       0.93      0.94      0.93        84\n",
      "weighted avg       0.93      0.93      0.93        84\n",
      "\n"
     ]
    }
   ],
   "source": [
    "gbc = GradientBoostingClassifier()\n",
    "gbc.fit(x_train,y_train)\n",
    "\n",
    "pred_test_gbc=gbc.predict(x_test)\n",
    "\n",
    "print('Accuracy\\n',accuracy_score(y_test,pred_test_gbc))\n",
    "print('Confusion matrix\\n',confusion_matrix(y_test,pred_test_gbc))\n",
    "print('classification Report\\n',classification_report(y_test,pred_test_gbc))"
   ]
  },
  {
   "cell_type": "code",
   "execution_count": 91,
   "id": "54f7c0a6",
   "metadata": {},
   "outputs": [
    {
     "name": "stdout",
     "output_type": "stream",
     "text": [
      "cv score is 0.8857142857142858\n",
      "Difference between accuracy and validation score 0.042857142857142816\n"
     ]
    }
   ],
   "source": [
    "# cross validation for GradientBoostingClassifier\n",
    "cv_score=cross_val_score(gbc,x,y,cv=14)\n",
    "cv_mean=cv_score.mean()\n",
    "print(f\"cv score is {cv_mean}\")\n",
    "print('Difference between accuracy and validation score', accuracy_score(y_test,pred_test_gbc)-cv_mean)"
   ]
  },
  {
   "cell_type": "code",
   "execution_count": null,
   "id": "94344221",
   "metadata": {},
   "outputs": [],
   "source": []
  },
  {
   "cell_type": "markdown",
   "id": "dd98266b",
   "metadata": {},
   "source": [
    "## ExtraTreesClassifier"
   ]
  },
  {
   "cell_type": "code",
   "execution_count": 92,
   "id": "22c21c95",
   "metadata": {},
   "outputs": [
    {
     "name": "stdout",
     "output_type": "stream",
     "text": [
      "Accuracy\n",
      " 0.9285714285714286\n",
      "Confusion matrix\n",
      " [[13  2  1  0  0  1]\n",
      " [ 0 11  1  0  0  0]\n",
      " [ 1  0 16  0  0  0]\n",
      " [ 0  0  0 16  0  0]\n",
      " [ 0  0  0  0 12  0]\n",
      " [ 0  0  0  0  0 10]]\n",
      "classification Report\n",
      "               precision    recall  f1-score   support\n",
      "\n",
      "           1       0.93      0.76      0.84        17\n",
      "           2       0.85      0.92      0.88        12\n",
      "           3       0.89      0.94      0.91        17\n",
      "           5       1.00      1.00      1.00        16\n",
      "           6       1.00      1.00      1.00        12\n",
      "           7       0.91      1.00      0.95        10\n",
      "\n",
      "    accuracy                           0.93        84\n",
      "   macro avg       0.93      0.94      0.93        84\n",
      "weighted avg       0.93      0.93      0.93        84\n",
      "\n"
     ]
    }
   ],
   "source": [
    "etc = ExtraTreesClassifier()\n",
    "etc.fit(x_train,y_train)\n",
    "\n",
    "\n",
    "pred_test_etc=etc.predict(x_test)\n",
    "\n",
    "print('Accuracy\\n',accuracy_score(y_test,pred_test_etc))\n",
    "print('Confusion matrix\\n',confusion_matrix(y_test,pred_test_etc))\n",
    "print('classification Report\\n',classification_report(y_test,pred_test_etc))"
   ]
  },
  {
   "cell_type": "code",
   "execution_count": 93,
   "id": "5330dfb0",
   "metadata": {},
   "outputs": [
    {
     "name": "stdout",
     "output_type": "stream",
     "text": [
      "cv score is 0.8928571428571429\n",
      "Difference between accuracy and validation score 0.0357142857142857\n"
     ]
    }
   ],
   "source": [
    "# cross validation for ExtraTreesClassifier\n",
    "cv_score=cross_val_score(etc,x,y,cv=14)\n",
    "cv_mean=cv_score.mean()\n",
    "print(f\"cv score is {cv_mean}\")\n",
    "print('Difference between accuracy and validation score', accuracy_score(y_test,pred_test_etc)-cv_mean)"
   ]
  },
  {
   "cell_type": "code",
   "execution_count": null,
   "id": "fbe8ce43",
   "metadata": {},
   "outputs": [],
   "source": []
  },
  {
   "cell_type": "markdown",
   "id": "49027241",
   "metadata": {},
   "source": [
    "# Tuning"
   ]
  },
  {
   "cell_type": "code",
   "execution_count": 106,
   "id": "c3374d45",
   "metadata": {},
   "outputs": [],
   "source": [
    "from sklearn.model_selection import GridSearchCV\n",
    "\n",
    "parameters={\n",
    "    \n",
    "    \"max_depth\":[3,5,8],\n",
    "    \"max_features\":[\"auto\", \"sqrt\", \"log2\"],\n",
    "    \"criterion\":[\"gini\", \"entropy\"],\n",
    "    \"n_estimators\":[50,100,150]\n",
    "    }"
   ]
  },
  {
   "cell_type": "code",
   "execution_count": 107,
   "id": "c6e73a83",
   "metadata": {},
   "outputs": [
    {
     "name": "stdout",
     "output_type": "stream",
     "text": [
      "{'criterion': 'entropy', 'max_depth': 8, 'max_features': 'auto', 'n_estimators': 150}\n"
     ]
    }
   ],
   "source": [
    "clf=GridSearchCV(ExtraTreesClassifier(),parameters)\n",
    "clf.fit(x_train, y_train)\n",
    "print(clf.best_params_)"
   ]
  },
  {
   "cell_type": "code",
   "execution_count": 108,
   "id": "c24801e6",
   "metadata": {},
   "outputs": [
    {
     "name": "stdout",
     "output_type": "stream",
     "text": [
      "Accuracy\n",
      " 0.9166666666666666\n",
      "Confusion matrix\n",
      " [[12  3  1  0  0  1]\n",
      " [ 1 10  1  0  0  0]\n",
      " [ 0  0 17  0  0  0]\n",
      " [ 0  0  0 16  0  0]\n",
      " [ 0  0  0  0 12  0]\n",
      " [ 0  0  0  0  0 10]]\n",
      "classification Report\n",
      "               precision    recall  f1-score   support\n",
      "\n",
      "           1       0.92      0.71      0.80        17\n",
      "           2       0.77      0.83      0.80        12\n",
      "           3       0.89      1.00      0.94        17\n",
      "           5       1.00      1.00      1.00        16\n",
      "           6       1.00      1.00      1.00        12\n",
      "           7       0.91      1.00      0.95        10\n",
      "\n",
      "    accuracy                           0.92        84\n",
      "   macro avg       0.92      0.92      0.92        84\n",
      "weighted avg       0.92      0.92      0.91        84\n",
      "\n"
     ]
    }
   ],
   "source": [
    "Tuned_model=ExtraTreesClassifier(n_estimators= 150, max_features='auto', max_depth= 8, criterion= 'entropy')\n",
    "Tuned_model.fit(x_train, y_train)\n",
    "\n",
    "pred_test_tuned=Tuned_model.predict(x_test)\n",
    "\n",
    "print('Accuracy\\n',accuracy_score(y_test,pred_test_tuned))\n",
    "print('Confusion matrix\\n',confusion_matrix(y_test,pred_test_tuned))\n",
    "print('classification Report\\n',classification_report(y_test,pred_test_tuned))"
   ]
  },
  {
   "cell_type": "code",
   "execution_count": 109,
   "id": "edca9f29",
   "metadata": {},
   "outputs": [
    {
     "name": "stdout",
     "output_type": "stream",
     "text": [
      "cv score is 0.8785714285714287\n",
      "Difference between accuracy and validation score 0.03809523809523796\n"
     ]
    }
   ],
   "source": [
    "# cross validation for Tuned_model\n",
    "cv_score=cross_val_score(Tuned_model,x,y,cv=14)\n",
    "cv_mean=cv_score.mean()\n",
    "print(f\"cv score is {cv_mean}\")\n",
    "print('Difference between accuracy and validation score', accuracy_score(y_test,pred_test_tuned)-cv_mean)"
   ]
  },
  {
   "cell_type": "markdown",
   "id": "f0f2647a",
   "metadata": {},
   "source": [
    "### Tuning of DecisionTreeClassifier"
   ]
  },
  {
   "cell_type": "code",
   "execution_count": 110,
   "id": "471a8e37",
   "metadata": {},
   "outputs": [],
   "source": [
    "parameters={\n",
    "    \n",
    "    \"max_depth\":[3,5,8],\n",
    "    \"max_features\":[\"auto\", \"sqrt\", \"log2\"],\n",
    "    \"criterion\":[\"gini\", \"entropy\"]\n",
    "    \n",
    "    }"
   ]
  },
  {
   "cell_type": "code",
   "execution_count": 111,
   "id": "44bf102a",
   "metadata": {},
   "outputs": [
    {
     "name": "stdout",
     "output_type": "stream",
     "text": [
      "{'criterion': 'gini', 'max_depth': 8, 'max_features': 'auto'}\n"
     ]
    }
   ],
   "source": [
    "clf=GridSearchCV(DecisionTreeClassifier(),parameters)\n",
    "clf.fit(x_train, y_train)\n",
    "print(clf.best_params_)"
   ]
  },
  {
   "cell_type": "code",
   "execution_count": 112,
   "id": "756bb158",
   "metadata": {},
   "outputs": [
    {
     "name": "stdout",
     "output_type": "stream",
     "text": [
      "Accuracy\n",
      " 0.8333333333333334\n",
      "Confusion matrix\n",
      " [[11  4  2  0  0  0]\n",
      " [ 0  9  2  0  0  1]\n",
      " [ 3  1 12  0  0  1]\n",
      " [ 0  0  0 16  0  0]\n",
      " [ 0  0  0  0 12  0]\n",
      " [ 0  0  0  0  0 10]]\n",
      "classification Report\n",
      "               precision    recall  f1-score   support\n",
      "\n",
      "           1       0.79      0.65      0.71        17\n",
      "           2       0.64      0.75      0.69        12\n",
      "           3       0.75      0.71      0.73        17\n",
      "           5       1.00      1.00      1.00        16\n",
      "           6       1.00      1.00      1.00        12\n",
      "           7       0.83      1.00      0.91        10\n",
      "\n",
      "    accuracy                           0.83        84\n",
      "   macro avg       0.84      0.85      0.84        84\n",
      "weighted avg       0.84      0.83      0.83        84\n",
      "\n"
     ]
    }
   ],
   "source": [
    "Tuned_dtree=DecisionTreeClassifier(max_features='auto', max_depth= 8, criterion= 'gini')\n",
    "Tuned_dtree.fit(x_train, y_train)\n",
    "\n",
    "pred_test_tuned=Tuned_dtree.predict(x_test)\n",
    "\n",
    "print('Accuracy\\n',accuracy_score(y_test,pred_test_tuned))\n",
    "print('Confusion matrix\\n',confusion_matrix(y_test,pred_test_tuned))\n",
    "print('classification Report\\n',classification_report(y_test,pred_test_tuned))"
   ]
  },
  {
   "cell_type": "code",
   "execution_count": 113,
   "id": "9d204aa8",
   "metadata": {},
   "outputs": [
    {
     "name": "stdout",
     "output_type": "stream",
     "text": [
      "cv score is 0.8333333333333336\n",
      "Difference between accuracy and validation score -2.220446049250313e-16\n"
     ]
    }
   ],
   "source": [
    "# cross validation for Tuned_dtree\n",
    "cv_score=cross_val_score(Tuned_dtree,x,y,cv=14)\n",
    "cv_mean=cv_score.mean()\n",
    "print(f\"cv score is {cv_mean}\")\n",
    "print('Difference between accuracy and validation score', accuracy_score(y_test,pred_test_tuned)-cv_mean)"
   ]
  },
  {
   "cell_type": "markdown",
   "id": "aeb3c821",
   "metadata": {},
   "source": [
    "## Tuning of RandomForestClassifier"
   ]
  },
  {
   "cell_type": "code",
   "execution_count": 116,
   "id": "9bb715f3",
   "metadata": {},
   "outputs": [],
   "source": [
    "parameters={\n",
    "    \n",
    "    \"max_depth\":[3,5,8],\n",
    "    \"max_features\":[\"auto\", \"sqrt\", \"log2\"],\n",
    "    \"criterion\":[\"gini\", \"entropy\"],\n",
    "    \"n_estimators\":[50,100,150]\n",
    "    }"
   ]
  },
  {
   "cell_type": "code",
   "execution_count": 117,
   "id": "01dd8544",
   "metadata": {},
   "outputs": [
    {
     "name": "stdout",
     "output_type": "stream",
     "text": [
      "{'criterion': 'gini', 'max_depth': 8, 'max_features': 'log2', 'n_estimators': 50}\n"
     ]
    }
   ],
   "source": [
    "clf=GridSearchCV(RandomForestClassifier(),parameters)\n",
    "clf.fit(x_train, y_train)\n",
    "print(clf.best_params_)"
   ]
  },
  {
   "cell_type": "code",
   "execution_count": 118,
   "id": "0568f893",
   "metadata": {},
   "outputs": [
    {
     "name": "stdout",
     "output_type": "stream",
     "text": [
      "Accuracy\n",
      " 0.9166666666666666\n",
      "Confusion matrix\n",
      " [[12  3  1  0  0  1]\n",
      " [ 1 10  1  0  0  0]\n",
      " [ 0  0 17  0  0  0]\n",
      " [ 0  0  0 16  0  0]\n",
      " [ 0  0  0  0 12  0]\n",
      " [ 0  0  0  0  0 10]]\n",
      "classification Report\n",
      "               precision    recall  f1-score   support\n",
      "\n",
      "           1       0.92      0.71      0.80        17\n",
      "           2       0.77      0.83      0.80        12\n",
      "           3       0.89      1.00      0.94        17\n",
      "           5       1.00      1.00      1.00        16\n",
      "           6       1.00      1.00      1.00        12\n",
      "           7       0.91      1.00      0.95        10\n",
      "\n",
      "    accuracy                           0.92        84\n",
      "   macro avg       0.92      0.92      0.92        84\n",
      "weighted avg       0.92      0.92      0.91        84\n",
      "\n"
     ]
    }
   ],
   "source": [
    "Tuned_rfc=RandomForestClassifier(n_estimators=50, max_features='log2', max_depth= 8, criterion= 'gini')\n",
    "Tuned_rfc.fit(x_train, y_train)\n",
    "\n",
    "pred_test_tuned=Tuned_rfc.predict(x_test)\n",
    "\n",
    "print('Accuracy\\n',accuracy_score(y_test,pred_test_tuned))\n",
    "print('Confusion matrix\\n',confusion_matrix(y_test,pred_test_tuned))\n",
    "print('classification Report\\n',classification_report(y_test,pred_test_tuned))"
   ]
  },
  {
   "cell_type": "code",
   "execution_count": 119,
   "id": "a06d6c71",
   "metadata": {},
   "outputs": [
    {
     "name": "stdout",
     "output_type": "stream",
     "text": [
      "cv score is 0.8857142857142859\n",
      "Difference between accuracy and validation score 0.03095238095238073\n"
     ]
    }
   ],
   "source": [
    "# cross validation for Tuned_dtree\n",
    "cv_score=cross_val_score(Tuned_rfc,x,y,cv=14)\n",
    "cv_mean=cv_score.mean()\n",
    "print(f\"cv score is {cv_mean}\")\n",
    "print('Difference between accuracy and validation score', accuracy_score(y_test,pred_test_tuned)-cv_mean)"
   ]
  },
  {
   "cell_type": "markdown",
   "id": "1a1719c1",
   "metadata": {},
   "source": [
    "# Saving the model"
   ]
  },
  {
   "cell_type": "markdown",
   "id": "61143a54",
   "metadata": {},
   "source": [
    "Since Tuned_dtree is providing the best result(minimum difference between accuracy and validation score). So we will save the Tuned_dtree model."
   ]
  },
  {
   "cell_type": "code",
   "execution_count": 122,
   "id": "04eeeee8",
   "metadata": {},
   "outputs": [],
   "source": [
    "import pickle\n",
    "filename='glass.pkl'\n",
    "pickle.dump(Tuned_dtree, open(filename,'wb'))"
   ]
  },
  {
   "cell_type": "markdown",
   "id": "3f11a2b5",
   "metadata": {},
   "source": [
    "# Conclusion"
   ]
  },
  {
   "cell_type": "code",
   "execution_count": 124,
   "id": "1a8ee679",
   "metadata": {},
   "outputs": [],
   "source": [
    "loaded_model=pickle.load(open('glass.pkl','rb'))\n",
    "\n",
    "\n",
    "original=np.array(y_test)\n",
    "predicted=np.array(loaded_model.predict(x_test))"
   ]
  },
  {
   "cell_type": "code",
   "execution_count": 144,
   "id": "fe75e61f",
   "metadata": {},
   "outputs": [
    {
     "data": {
      "text/plain": [
       "0.8333333333333334"
      ]
     },
     "execution_count": 144,
     "metadata": {},
     "output_type": "execute_result"
    }
   ],
   "source": [
    "accuracy_score(y_test,loaded_model.predict(x_test))"
   ]
  },
  {
   "cell_type": "code",
   "execution_count": 146,
   "id": "c7597023",
   "metadata": {},
   "outputs": [
    {
     "data": {
      "text/html": [
       "<div>\n",
       "<style scoped>\n",
       "    .dataframe tbody tr th:only-of-type {\n",
       "        vertical-align: middle;\n",
       "    }\n",
       "\n",
       "    .dataframe tbody tr th {\n",
       "        vertical-align: top;\n",
       "    }\n",
       "\n",
       "    .dataframe thead th {\n",
       "        text-align: right;\n",
       "    }\n",
       "</style>\n",
       "<table border=\"1\" class=\"dataframe\">\n",
       "  <thead>\n",
       "    <tr style=\"text-align: right;\">\n",
       "      <th></th>\n",
       "      <th>Original</th>\n",
       "      <th>Predicted</th>\n",
       "    </tr>\n",
       "  </thead>\n",
       "  <tbody>\n",
       "    <tr>\n",
       "      <th>0</th>\n",
       "      <td>7</td>\n",
       "      <td>7</td>\n",
       "    </tr>\n",
       "    <tr>\n",
       "      <th>1</th>\n",
       "      <td>3</td>\n",
       "      <td>2</td>\n",
       "    </tr>\n",
       "    <tr>\n",
       "      <th>2</th>\n",
       "      <td>6</td>\n",
       "      <td>6</td>\n",
       "    </tr>\n",
       "    <tr>\n",
       "      <th>3</th>\n",
       "      <td>7</td>\n",
       "      <td>7</td>\n",
       "    </tr>\n",
       "    <tr>\n",
       "      <th>4</th>\n",
       "      <td>5</td>\n",
       "      <td>5</td>\n",
       "    </tr>\n",
       "    <tr>\n",
       "      <th>...</th>\n",
       "      <td>...</td>\n",
       "      <td>...</td>\n",
       "    </tr>\n",
       "    <tr>\n",
       "      <th>79</th>\n",
       "      <td>7</td>\n",
       "      <td>7</td>\n",
       "    </tr>\n",
       "    <tr>\n",
       "      <th>80</th>\n",
       "      <td>1</td>\n",
       "      <td>2</td>\n",
       "    </tr>\n",
       "    <tr>\n",
       "      <th>81</th>\n",
       "      <td>2</td>\n",
       "      <td>7</td>\n",
       "    </tr>\n",
       "    <tr>\n",
       "      <th>82</th>\n",
       "      <td>1</td>\n",
       "      <td>1</td>\n",
       "    </tr>\n",
       "    <tr>\n",
       "      <th>83</th>\n",
       "      <td>3</td>\n",
       "      <td>3</td>\n",
       "    </tr>\n",
       "  </tbody>\n",
       "</table>\n",
       "<p>84 rows × 2 columns</p>\n",
       "</div>"
      ],
      "text/plain": [
       "    Original  Predicted\n",
       "0          7          7\n",
       "1          3          2\n",
       "2          6          6\n",
       "3          7          7\n",
       "4          5          5\n",
       "..       ...        ...\n",
       "79         7          7\n",
       "80         1          2\n",
       "81         2          7\n",
       "82         1          1\n",
       "83         3          3\n",
       "\n",
       "[84 rows x 2 columns]"
      ]
     },
     "execution_count": 146,
     "metadata": {},
     "output_type": "execute_result"
    }
   ],
   "source": [
    "df=pd.DataFrame({'Original':original,'Predicted':predicted})\n",
    "df"
   ]
  },
  {
   "cell_type": "markdown",
   "id": "8e1e8268",
   "metadata": {},
   "source": [
    "# Predictive System"
   ]
  },
  {
   "cell_type": "markdown",
   "id": "a54d0bca",
   "metadata": {},
   "source": [
    "1. building_windows_float_processed\n",
    "2- building_windows_non_float_processed\n",
    "3- vehicle_windows_float_processed\n",
    "4- vehicle_windows_non_float_processed (none in this database)\n",
    "5- containers\n",
    "6- tableware\n",
    "7- headlamps"
   ]
  },
  {
   "cell_type": "code",
   "execution_count": 129,
   "id": "489d3a27",
   "metadata": {},
   "outputs": [
    {
     "name": "stdout",
     "output_type": "stream",
     "text": [
      "headlamps\n"
     ]
    }
   ],
   "source": [
    "input_data=(1.51556,13.87,0,2.54,73.23,0.14,9.41,0.81,0.01)\n",
    "ar_data=np.asarray(input_data)\n",
    "reshaped=ar_data.reshape(1,-1)\n",
    "pred=loaded_model.predict(reshaped)\n",
    "\n",
    "if pred[0]==1:\n",
    "    print('building_windows_float_processed')\n",
    "    \n",
    "elif pred[0]==2:\n",
    "    print('building_windows_non_float_processed')   \n",
    "elif pred[0]==3:\n",
    "    print('vehicle_windows_float_processed')      \n",
    "elif pred[0]==4:\n",
    "    print('vehicle_windows_non_float_processed')\n",
    "    \n",
    "elif pred[0]==5:\n",
    "    print('containers')      \n",
    "    \n",
    "elif pred[0]==6:\n",
    "    print('tableware')      \n",
    "    \n",
    "elif pred[0]==7:\n",
    "    print('headlamps')  \n",
    "    \n",
    "else:\n",
    "    print('Not defined') \n",
    "    \n",
    "    "
   ]
  },
  {
   "cell_type": "code",
   "execution_count": 143,
   "id": "2c117f6e",
   "metadata": {},
   "outputs": [
    {
     "name": "stdout",
     "output_type": "stream",
     "text": [
      "headlamps\n"
     ]
    }
   ],
   "source": [
    "input_data=(1.5164,12.55,3.48,1.87,73.23,0.63,8.08,0,0.09)\n",
    "ar_data=np.asarray(input_data)\n",
    "reshaped=ar_data.reshape(1,-1)\n",
    "pred=loaded_model.predict(reshaped)\n",
    "\n",
    "if pred[0]==1:\n",
    "    print('building_windows_float_processed')\n",
    "    \n",
    "elif pred[0]==2:\n",
    "    print('building_windows_non_float_processed')   \n",
    "elif pred[0]==3:\n",
    "    print('vehicle_windows_float_processed')      \n",
    "elif pred[0]==4:\n",
    "    print('vehicle_windows_non_float_processed')\n",
    "    \n",
    "elif pred[0]==5:\n",
    "    print('containers')      \n",
    "    \n",
    "elif pred[0]==6:\n",
    "    print('tableware')      \n",
    "    \n",
    "elif pred[0]==7:\n",
    "    print('headlamps')  \n",
    "    \n",
    "else:\n",
    "    print('Not defined') \n",
    "    "
   ]
  },
  {
   "cell_type": "code",
   "execution_count": null,
   "id": "acd7f01b",
   "metadata": {},
   "outputs": [],
   "source": []
  },
  {
   "cell_type": "code",
   "execution_count": 137,
   "id": "f96119a2",
   "metadata": {},
   "outputs": [
    {
     "name": "stdout",
     "output_type": "stream",
     "text": [
      "containers\n"
     ]
    }
   ],
   "source": [
    "input_data=(1.52369,13.44,0,1.58,72.22,0.32,12.24,0,0)\n",
    "ar_data=np.asarray(input_data)\n",
    "reshaped=ar_data.reshape(1,-1)\n",
    "pred=loaded_model.predict(reshaped)\n",
    "\n",
    "if pred[0]==1:\n",
    "    print('building_windows_float_processed')\n",
    "    \n",
    "elif pred[0]==2:\n",
    "    print('building_windows_non_float_processed')   \n",
    "elif pred[0]==3:\n",
    "    print('vehicle_windows_float_processed')      \n",
    "elif pred[0]==4:\n",
    "    print('vehicle_windows_non_float_processed')\n",
    "    \n",
    "elif pred[0]==5:\n",
    "    print('containers')      \n",
    "    \n",
    "elif pred[0]==6:\n",
    "    print('tableware')      \n",
    "    \n",
    "elif pred[0]==7:\n",
    "    print('headlamps')  \n",
    "    \n",
    "else:\n",
    "    print('Not defined') "
   ]
  },
  {
   "cell_type": "code",
   "execution_count": null,
   "id": "c0090c10",
   "metadata": {},
   "outputs": [],
   "source": []
  }
 ],
 "metadata": {
  "kernelspec": {
   "display_name": "Python 3 (ipykernel)",
   "language": "python",
   "name": "python3"
  },
  "language_info": {
   "codemirror_mode": {
    "name": "ipython",
    "version": 3
   },
   "file_extension": ".py",
   "mimetype": "text/x-python",
   "name": "python",
   "nbconvert_exporter": "python",
   "pygments_lexer": "ipython3",
   "version": "3.9.12"
  }
 },
 "nbformat": 4,
 "nbformat_minor": 5
}
